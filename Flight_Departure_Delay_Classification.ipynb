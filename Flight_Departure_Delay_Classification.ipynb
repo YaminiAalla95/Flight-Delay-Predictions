{
  "nbformat": 4,
  "nbformat_minor": 0,
  "metadata": {
    "colab": {
      "name": "Flight Departure Delay Classification.ipynb",
      "provenance": [],
      "toc_visible": true
    },
    "kernelspec": {
      "display_name": "Python 3",
      "name": "python3"
    },
    "language_info": {
      "name": "python"
    },
    "accelerator": "GPU"
  },
  "cells": [
    {
      "cell_type": "markdown",
      "metadata": {
        "id": "J9Rb4QoPKd3V"
      },
      "source": [
        "# Classification Models for predicting Departure Delay\n",
        "This notebook trains the below mentioned models.\n",
        "\n",
        "\n",
        "1. Linear model(stochastic gradient descent (SGD) Classifier)\n",
        "2. Linear model(Logistic regression)\n",
        "3. Tree Based(Decision Tree Classifier)\n",
        "4. Ensemble model(Random Forest Classifier)\n",
        "5. Ensemble model(Gradient Boosting Classifier)\n",
        "6. Naive_bayes model( GaussianNB model)\n",
        "\n",
        "\n",
        "\n",
        "\n"
      ]
    },
    {
      "cell_type": "code",
      "metadata": {
        "id": "PCslMqsKtMT4"
      },
      "source": [
        "import pandas as pd\n",
        "import numpy as np\n",
        "import matplotlib.pyplot as plt\n",
        "import time\n",
        "from sklearn.metrics import roc_auc_score, accuracy_score, precision_score, recall_score,f1_score\n",
        "from sklearn.preprocessing import StandardScaler\n",
        "from sklearn.tree import DecisionTreeClassifier\n",
        "from sklearn.linear_model import LogisticRegression\n",
        "import matplotlib.pyplot as plt  \n",
        "from sklearn import datasets, metrics, model_selection\n",
        "from sklearn.metrics import roc_curve \n",
        "from sklearn.ensemble import GradientBoostingClassifier\n",
        "from sklearn.ensemble import RandomForestClassifier\n",
        "from sklearn.neural_network import MLPClassifier\n",
        "from sklearn.linear_model import SGDClassifier\n",
        "from sklearn.naive_bayes import GaussianNB\n"
      ],
      "execution_count": 1,
      "outputs": []
    },
    {
      "cell_type": "code",
      "metadata": {
        "colab": {
          "base_uri": "https://localhost:8080/"
        },
        "id": "zIsFhmy_vTl3",
        "outputId": "c0579b9a-ab3c-406c-f173-845bffe6646d"
      },
      "source": [
        "from google.colab import drive\n",
        "drive.mount(\"/content/drive\")"
      ],
      "execution_count": 2,
      "outputs": [
        {
          "output_type": "stream",
          "text": [
            "Mounted at /content/drive\n"
          ],
          "name": "stdout"
        }
      ]
    },
    {
      "cell_type": "markdown",
      "metadata": {
        "id": "US8kRgyINmP3"
      },
      "source": [
        "## Data Preprocessing"
      ]
    },
    {
      "cell_type": "code",
      "metadata": {
        "id": "dKY1v8gStYBq",
        "colab": {
          "base_uri": "https://localhost:8080/"
        },
        "outputId": "a8899800-9298-4f34-d75e-bc050d2616f7"
      },
      "source": [
        "\n",
        "df_flight = pd.read_csv(\"/content/drive/Shareddrives/255 Team Project/Flight Delay Dataset/flights.csv\")\n",
        "df_air = pd.read_csv('/content/drive/Shareddrives/255 Team Project/Flight Delay Dataset/airports.csv')\n"
      ],
      "execution_count": 3,
      "outputs": [
        {
          "output_type": "stream",
          "text": [
            "/usr/local/lib/python3.7/dist-packages/IPython/core/interactiveshell.py:2718: DtypeWarning: Columns (7,8) have mixed types.Specify dtype option on import or set low_memory=False.\n",
            "  interactivity=interactivity, compiler=compiler, result=result)\n"
          ],
          "name": "stderr"
        }
      ]
    },
    {
      "cell_type": "markdown",
      "metadata": {
        "id": "dgxYFutWNv10"
      },
      "source": [
        "df_flight is a huge data, Taking this into consideration, Extracting the data for one month i.e. January Month "
      ]
    },
    {
      "cell_type": "code",
      "metadata": {
        "id": "F4J9YC0cdrrh"
      },
      "source": [
        "df_flight = df_flight[df_flight['MONTH'] == 1]"
      ],
      "execution_count": 4,
      "outputs": []
    },
    {
      "cell_type": "code",
      "metadata": {
        "colab": {
          "base_uri": "https://localhost:8080/",
          "height": 224
        },
        "id": "6GEP2ZbWQKD2",
        "outputId": "15263266-384c-4d2f-f746-c92b5d179642"
      },
      "source": [
        "df_flight.head()"
      ],
      "execution_count": 5,
      "outputs": [
        {
          "output_type": "execute_result",
          "data": {
            "text/html": [
              "<div>\n",
              "<style scoped>\n",
              "    .dataframe tbody tr th:only-of-type {\n",
              "        vertical-align: middle;\n",
              "    }\n",
              "\n",
              "    .dataframe tbody tr th {\n",
              "        vertical-align: top;\n",
              "    }\n",
              "\n",
              "    .dataframe thead th {\n",
              "        text-align: right;\n",
              "    }\n",
              "</style>\n",
              "<table border=\"1\" class=\"dataframe\">\n",
              "  <thead>\n",
              "    <tr style=\"text-align: right;\">\n",
              "      <th></th>\n",
              "      <th>YEAR</th>\n",
              "      <th>MONTH</th>\n",
              "      <th>DAY</th>\n",
              "      <th>DAY_OF_WEEK</th>\n",
              "      <th>AIRLINE</th>\n",
              "      <th>FLIGHT_NUMBER</th>\n",
              "      <th>TAIL_NUMBER</th>\n",
              "      <th>ORIGIN_AIRPORT</th>\n",
              "      <th>DESTINATION_AIRPORT</th>\n",
              "      <th>SCHEDULED_DEPARTURE</th>\n",
              "      <th>DEPARTURE_TIME</th>\n",
              "      <th>DEPARTURE_DELAY</th>\n",
              "      <th>TAXI_OUT</th>\n",
              "      <th>WHEELS_OFF</th>\n",
              "      <th>SCHEDULED_TIME</th>\n",
              "      <th>ELAPSED_TIME</th>\n",
              "      <th>AIR_TIME</th>\n",
              "      <th>DISTANCE</th>\n",
              "      <th>WHEELS_ON</th>\n",
              "      <th>TAXI_IN</th>\n",
              "      <th>SCHEDULED_ARRIVAL</th>\n",
              "      <th>ARRIVAL_TIME</th>\n",
              "      <th>ARRIVAL_DELAY</th>\n",
              "      <th>DIVERTED</th>\n",
              "      <th>CANCELLED</th>\n",
              "      <th>CANCELLATION_REASON</th>\n",
              "      <th>AIR_SYSTEM_DELAY</th>\n",
              "      <th>SECURITY_DELAY</th>\n",
              "      <th>AIRLINE_DELAY</th>\n",
              "      <th>LATE_AIRCRAFT_DELAY</th>\n",
              "      <th>WEATHER_DELAY</th>\n",
              "    </tr>\n",
              "  </thead>\n",
              "  <tbody>\n",
              "    <tr>\n",
              "      <th>0</th>\n",
              "      <td>2015</td>\n",
              "      <td>1</td>\n",
              "      <td>1</td>\n",
              "      <td>4</td>\n",
              "      <td>AS</td>\n",
              "      <td>98</td>\n",
              "      <td>N407AS</td>\n",
              "      <td>ANC</td>\n",
              "      <td>SEA</td>\n",
              "      <td>5</td>\n",
              "      <td>2354.0</td>\n",
              "      <td>-11.0</td>\n",
              "      <td>21.0</td>\n",
              "      <td>15.0</td>\n",
              "      <td>205.0</td>\n",
              "      <td>194.0</td>\n",
              "      <td>169.0</td>\n",
              "      <td>1448</td>\n",
              "      <td>404.0</td>\n",
              "      <td>4.0</td>\n",
              "      <td>430</td>\n",
              "      <td>408.0</td>\n",
              "      <td>-22.0</td>\n",
              "      <td>0</td>\n",
              "      <td>0</td>\n",
              "      <td>NaN</td>\n",
              "      <td>NaN</td>\n",
              "      <td>NaN</td>\n",
              "      <td>NaN</td>\n",
              "      <td>NaN</td>\n",
              "      <td>NaN</td>\n",
              "    </tr>\n",
              "    <tr>\n",
              "      <th>1</th>\n",
              "      <td>2015</td>\n",
              "      <td>1</td>\n",
              "      <td>1</td>\n",
              "      <td>4</td>\n",
              "      <td>AA</td>\n",
              "      <td>2336</td>\n",
              "      <td>N3KUAA</td>\n",
              "      <td>LAX</td>\n",
              "      <td>PBI</td>\n",
              "      <td>10</td>\n",
              "      <td>2.0</td>\n",
              "      <td>-8.0</td>\n",
              "      <td>12.0</td>\n",
              "      <td>14.0</td>\n",
              "      <td>280.0</td>\n",
              "      <td>279.0</td>\n",
              "      <td>263.0</td>\n",
              "      <td>2330</td>\n",
              "      <td>737.0</td>\n",
              "      <td>4.0</td>\n",
              "      <td>750</td>\n",
              "      <td>741.0</td>\n",
              "      <td>-9.0</td>\n",
              "      <td>0</td>\n",
              "      <td>0</td>\n",
              "      <td>NaN</td>\n",
              "      <td>NaN</td>\n",
              "      <td>NaN</td>\n",
              "      <td>NaN</td>\n",
              "      <td>NaN</td>\n",
              "      <td>NaN</td>\n",
              "    </tr>\n",
              "    <tr>\n",
              "      <th>2</th>\n",
              "      <td>2015</td>\n",
              "      <td>1</td>\n",
              "      <td>1</td>\n",
              "      <td>4</td>\n",
              "      <td>US</td>\n",
              "      <td>840</td>\n",
              "      <td>N171US</td>\n",
              "      <td>SFO</td>\n",
              "      <td>CLT</td>\n",
              "      <td>20</td>\n",
              "      <td>18.0</td>\n",
              "      <td>-2.0</td>\n",
              "      <td>16.0</td>\n",
              "      <td>34.0</td>\n",
              "      <td>286.0</td>\n",
              "      <td>293.0</td>\n",
              "      <td>266.0</td>\n",
              "      <td>2296</td>\n",
              "      <td>800.0</td>\n",
              "      <td>11.0</td>\n",
              "      <td>806</td>\n",
              "      <td>811.0</td>\n",
              "      <td>5.0</td>\n",
              "      <td>0</td>\n",
              "      <td>0</td>\n",
              "      <td>NaN</td>\n",
              "      <td>NaN</td>\n",
              "      <td>NaN</td>\n",
              "      <td>NaN</td>\n",
              "      <td>NaN</td>\n",
              "      <td>NaN</td>\n",
              "    </tr>\n",
              "    <tr>\n",
              "      <th>3</th>\n",
              "      <td>2015</td>\n",
              "      <td>1</td>\n",
              "      <td>1</td>\n",
              "      <td>4</td>\n",
              "      <td>AA</td>\n",
              "      <td>258</td>\n",
              "      <td>N3HYAA</td>\n",
              "      <td>LAX</td>\n",
              "      <td>MIA</td>\n",
              "      <td>20</td>\n",
              "      <td>15.0</td>\n",
              "      <td>-5.0</td>\n",
              "      <td>15.0</td>\n",
              "      <td>30.0</td>\n",
              "      <td>285.0</td>\n",
              "      <td>281.0</td>\n",
              "      <td>258.0</td>\n",
              "      <td>2342</td>\n",
              "      <td>748.0</td>\n",
              "      <td>8.0</td>\n",
              "      <td>805</td>\n",
              "      <td>756.0</td>\n",
              "      <td>-9.0</td>\n",
              "      <td>0</td>\n",
              "      <td>0</td>\n",
              "      <td>NaN</td>\n",
              "      <td>NaN</td>\n",
              "      <td>NaN</td>\n",
              "      <td>NaN</td>\n",
              "      <td>NaN</td>\n",
              "      <td>NaN</td>\n",
              "    </tr>\n",
              "    <tr>\n",
              "      <th>4</th>\n",
              "      <td>2015</td>\n",
              "      <td>1</td>\n",
              "      <td>1</td>\n",
              "      <td>4</td>\n",
              "      <td>AS</td>\n",
              "      <td>135</td>\n",
              "      <td>N527AS</td>\n",
              "      <td>SEA</td>\n",
              "      <td>ANC</td>\n",
              "      <td>25</td>\n",
              "      <td>24.0</td>\n",
              "      <td>-1.0</td>\n",
              "      <td>11.0</td>\n",
              "      <td>35.0</td>\n",
              "      <td>235.0</td>\n",
              "      <td>215.0</td>\n",
              "      <td>199.0</td>\n",
              "      <td>1448</td>\n",
              "      <td>254.0</td>\n",
              "      <td>5.0</td>\n",
              "      <td>320</td>\n",
              "      <td>259.0</td>\n",
              "      <td>-21.0</td>\n",
              "      <td>0</td>\n",
              "      <td>0</td>\n",
              "      <td>NaN</td>\n",
              "      <td>NaN</td>\n",
              "      <td>NaN</td>\n",
              "      <td>NaN</td>\n",
              "      <td>NaN</td>\n",
              "      <td>NaN</td>\n",
              "    </tr>\n",
              "  </tbody>\n",
              "</table>\n",
              "</div>"
            ],
            "text/plain": [
              "   YEAR  MONTH  DAY  ...  AIRLINE_DELAY LATE_AIRCRAFT_DELAY  WEATHER_DELAY\n",
              "0  2015      1    1  ...            NaN                 NaN            NaN\n",
              "1  2015      1    1  ...            NaN                 NaN            NaN\n",
              "2  2015      1    1  ...            NaN                 NaN            NaN\n",
              "3  2015      1    1  ...            NaN                 NaN            NaN\n",
              "4  2015      1    1  ...            NaN                 NaN            NaN\n",
              "\n",
              "[5 rows x 31 columns]"
            ]
          },
          "metadata": {
            "tags": []
          },
          "execution_count": 5
        }
      ]
    },
    {
      "cell_type": "code",
      "metadata": {
        "colab": {
          "base_uri": "https://localhost:8080/",
          "height": 204
        },
        "id": "qTk5pJvOQVrp",
        "outputId": "ce76256f-0c9e-4327-9e5d-c43bb29fb725"
      },
      "source": [
        "df_air.head()"
      ],
      "execution_count": 6,
      "outputs": [
        {
          "output_type": "execute_result",
          "data": {
            "text/html": [
              "<div>\n",
              "<style scoped>\n",
              "    .dataframe tbody tr th:only-of-type {\n",
              "        vertical-align: middle;\n",
              "    }\n",
              "\n",
              "    .dataframe tbody tr th {\n",
              "        vertical-align: top;\n",
              "    }\n",
              "\n",
              "    .dataframe thead th {\n",
              "        text-align: right;\n",
              "    }\n",
              "</style>\n",
              "<table border=\"1\" class=\"dataframe\">\n",
              "  <thead>\n",
              "    <tr style=\"text-align: right;\">\n",
              "      <th></th>\n",
              "      <th>IATA_CODE</th>\n",
              "      <th>AIRPORT</th>\n",
              "      <th>CITY</th>\n",
              "      <th>STATE</th>\n",
              "      <th>COUNTRY</th>\n",
              "      <th>LATITUDE</th>\n",
              "      <th>LONGITUDE</th>\n",
              "    </tr>\n",
              "  </thead>\n",
              "  <tbody>\n",
              "    <tr>\n",
              "      <th>0</th>\n",
              "      <td>ABE</td>\n",
              "      <td>Lehigh Valley International Airport</td>\n",
              "      <td>Allentown</td>\n",
              "      <td>PA</td>\n",
              "      <td>USA</td>\n",
              "      <td>40.65236</td>\n",
              "      <td>-75.44040</td>\n",
              "    </tr>\n",
              "    <tr>\n",
              "      <th>1</th>\n",
              "      <td>ABI</td>\n",
              "      <td>Abilene Regional Airport</td>\n",
              "      <td>Abilene</td>\n",
              "      <td>TX</td>\n",
              "      <td>USA</td>\n",
              "      <td>32.41132</td>\n",
              "      <td>-99.68190</td>\n",
              "    </tr>\n",
              "    <tr>\n",
              "      <th>2</th>\n",
              "      <td>ABQ</td>\n",
              "      <td>Albuquerque International Sunport</td>\n",
              "      <td>Albuquerque</td>\n",
              "      <td>NM</td>\n",
              "      <td>USA</td>\n",
              "      <td>35.04022</td>\n",
              "      <td>-106.60919</td>\n",
              "    </tr>\n",
              "    <tr>\n",
              "      <th>3</th>\n",
              "      <td>ABR</td>\n",
              "      <td>Aberdeen Regional Airport</td>\n",
              "      <td>Aberdeen</td>\n",
              "      <td>SD</td>\n",
              "      <td>USA</td>\n",
              "      <td>45.44906</td>\n",
              "      <td>-98.42183</td>\n",
              "    </tr>\n",
              "    <tr>\n",
              "      <th>4</th>\n",
              "      <td>ABY</td>\n",
              "      <td>Southwest Georgia Regional Airport</td>\n",
              "      <td>Albany</td>\n",
              "      <td>GA</td>\n",
              "      <td>USA</td>\n",
              "      <td>31.53552</td>\n",
              "      <td>-84.19447</td>\n",
              "    </tr>\n",
              "  </tbody>\n",
              "</table>\n",
              "</div>"
            ],
            "text/plain": [
              "  IATA_CODE                              AIRPORT  ...  LATITUDE  LONGITUDE\n",
              "0       ABE  Lehigh Valley International Airport  ...  40.65236  -75.44040\n",
              "1       ABI             Abilene Regional Airport  ...  32.41132  -99.68190\n",
              "2       ABQ    Albuquerque International Sunport  ...  35.04022 -106.60919\n",
              "3       ABR            Aberdeen Regional Airport  ...  45.44906  -98.42183\n",
              "4       ABY   Southwest Georgia Regional Airport  ...  31.53552  -84.19447\n",
              "\n",
              "[5 rows x 7 columns]"
            ]
          },
          "metadata": {
            "tags": []
          },
          "execution_count": 6
        }
      ]
    },
    {
      "cell_type": "markdown",
      "metadata": {
        "id": "V0DxuSH5OOVP"
      },
      "source": [
        "The most important column is the DEPARTURE_DELAY and column CANCELLED is also important considering the fact that when flights gets cancelled, there will be no delay . So, we take values in which flights are not cancelled."
      ]
    },
    {
      "cell_type": "code",
      "metadata": {
        "colab": {
          "base_uri": "https://localhost:8080/"
        },
        "id": "CCJYIqCAQvF2",
        "outputId": "31bf6c04-8093-484e-df5c-3580efa3e570"
      },
      "source": [
        "df_flight.groupby('CANCELLED').size()"
      ],
      "execution_count": 7,
      "outputs": [
        {
          "output_type": "execute_result",
          "data": {
            "text/plain": [
              "CANCELLED\n",
              "0    457986\n",
              "1     11982\n",
              "dtype: int64"
            ]
          },
          "metadata": {
            "tags": []
          },
          "execution_count": 7
        }
      ]
    },
    {
      "cell_type": "code",
      "metadata": {
        "id": "fEiTuzrP8w0n"
      },
      "source": [
        "df_flight = df_flight.loc[df_flight.CANCELLED.isin([0])]"
      ],
      "execution_count": 8,
      "outputs": []
    },
    {
      "cell_type": "markdown",
      "metadata": {
        "id": "hnTYs_wwQuro"
      },
      "source": [
        "Setting DEPARTURE_DELAY as the target value and setting it to 1 when the delay is 0 or greater than 0. otherwise, 0."
      ]
    },
    {
      "cell_type": "code",
      "metadata": {
        "id": "ii96KBzE89On"
      },
      "source": [
        "df_flight['DEPARTURE_DELAY'] = (df_flight.DEPARTURE_DELAY > 0).astype('int') "
      ],
      "execution_count": 9,
      "outputs": []
    },
    {
      "cell_type": "markdown",
      "metadata": {
        "id": "K4FTUAhUPaZ6"
      },
      "source": [
        "## Feature Engineering"
      ]
    },
    {
      "cell_type": "markdown",
      "metadata": {
        "id": "HTs8QvHzPBuv"
      },
      "source": [
        "### Dealing with Numerical features "
      ]
    },
    {
      "cell_type": "code",
      "metadata": {
        "id": "K5Ew1feV9OzC"
      },
      "source": [
        "col_with_numerical_values = ['SCHEDULED_TIME','SCHEDULED_ARRIVAL','SCHEDULED_DEPARTURE','DAY_OF_WEEK']\n"
      ],
      "execution_count": 10,
      "outputs": []
    },
    {
      "cell_type": "code",
      "metadata": {
        "id": "v3Wj6kGH9Oxz",
        "colab": {
          "base_uri": "https://localhost:8080/"
        },
        "outputId": "c5aac475-1b03-4e31-e7d5-c9ae827b35e3"
      },
      "source": [
        "df_flight[col_with_numerical_values].isnull().sum()"
      ],
      "execution_count": 11,
      "outputs": [
        {
          "output_type": "execute_result",
          "data": {
            "text/plain": [
              "SCHEDULED_TIME         0\n",
              "SCHEDULED_ARRIVAL      0\n",
              "SCHEDULED_DEPARTURE    0\n",
              "DAY_OF_WEEK            0\n",
              "dtype: int64"
            ]
          },
          "metadata": {
            "tags": []
          },
          "execution_count": 11
        }
      ]
    },
    {
      "cell_type": "markdown",
      "metadata": {
        "id": "RIbC5OvlPuCk"
      },
      "source": [
        "### Dealing with categorical features"
      ]
    },
    {
      "cell_type": "code",
      "metadata": {
        "id": "5sMC30L59OwR"
      },
      "source": [
        "col_with_categorical_values = ['AIRLINE','ORIGIN_AIRPORT']\n"
      ],
      "execution_count": 12,
      "outputs": []
    },
    {
      "cell_type": "code",
      "metadata": {
        "id": "spT1NArV9OmS",
        "colab": {
          "base_uri": "https://localhost:8080/"
        },
        "outputId": "007f446e-27ae-4a8c-f637-05b57d90259c"
      },
      "source": [
        "df_flight[col_with_categorical_values].isnull().sum()"
      ],
      "execution_count": 13,
      "outputs": [
        {
          "output_type": "execute_result",
          "data": {
            "text/plain": [
              "AIRLINE           0\n",
              "ORIGIN_AIRPORT    0\n",
              "dtype: int64"
            ]
          },
          "metadata": {
            "tags": []
          },
          "execution_count": 13
        }
      ]
    },
    {
      "cell_type": "markdown",
      "metadata": {
        "id": "JQiC-Zk4P-Y0"
      },
      "source": [
        "One-hot encoding: We create a new feature for each unique value of the column , sets value to 1 if it is unique otherwise,0 using get_dummies function."
      ]
    },
    {
      "cell_type": "code",
      "metadata": {
        "id": "TCMPsX7K9Oak"
      },
      "source": [
        "categorical_df = pd.get_dummies(df_flight[col_with_categorical_values],drop_first = True)"
      ],
      "execution_count": 14,
      "outputs": []
    },
    {
      "cell_type": "code",
      "metadata": {
        "colab": {
          "base_uri": "https://localhost:8080/",
          "height": 0
        },
        "id": "cKnh7vJL9OYL",
        "outputId": "bfa96f8c-5e41-425a-ffb2-098c714efed2"
      },
      "source": [
        "categorical_df.head()"
      ],
      "execution_count": 15,
      "outputs": [
        {
          "output_type": "execute_result",
          "data": {
            "text/html": [
              "<div>\n",
              "<style scoped>\n",
              "    .dataframe tbody tr th:only-of-type {\n",
              "        vertical-align: middle;\n",
              "    }\n",
              "\n",
              "    .dataframe tbody tr th {\n",
              "        vertical-align: top;\n",
              "    }\n",
              "\n",
              "    .dataframe thead th {\n",
              "        text-align: right;\n",
              "    }\n",
              "</style>\n",
              "<table border=\"1\" class=\"dataframe\">\n",
              "  <thead>\n",
              "    <tr style=\"text-align: right;\">\n",
              "      <th></th>\n",
              "      <th>AIRLINE_AS</th>\n",
              "      <th>AIRLINE_B6</th>\n",
              "      <th>AIRLINE_DL</th>\n",
              "      <th>AIRLINE_EV</th>\n",
              "      <th>AIRLINE_F9</th>\n",
              "      <th>AIRLINE_HA</th>\n",
              "      <th>AIRLINE_MQ</th>\n",
              "      <th>AIRLINE_NK</th>\n",
              "      <th>AIRLINE_OO</th>\n",
              "      <th>AIRLINE_UA</th>\n",
              "      <th>AIRLINE_US</th>\n",
              "      <th>AIRLINE_VX</th>\n",
              "      <th>AIRLINE_WN</th>\n",
              "      <th>ORIGIN_AIRPORT_ABI</th>\n",
              "      <th>ORIGIN_AIRPORT_ABQ</th>\n",
              "      <th>ORIGIN_AIRPORT_ABR</th>\n",
              "      <th>ORIGIN_AIRPORT_ABY</th>\n",
              "      <th>ORIGIN_AIRPORT_ACT</th>\n",
              "      <th>ORIGIN_AIRPORT_ACV</th>\n",
              "      <th>ORIGIN_AIRPORT_ACY</th>\n",
              "      <th>ORIGIN_AIRPORT_ADK</th>\n",
              "      <th>ORIGIN_AIRPORT_ADQ</th>\n",
              "      <th>ORIGIN_AIRPORT_AEX</th>\n",
              "      <th>ORIGIN_AIRPORT_AGS</th>\n",
              "      <th>ORIGIN_AIRPORT_ALB</th>\n",
              "      <th>ORIGIN_AIRPORT_ALO</th>\n",
              "      <th>ORIGIN_AIRPORT_AMA</th>\n",
              "      <th>ORIGIN_AIRPORT_ANC</th>\n",
              "      <th>ORIGIN_AIRPORT_APN</th>\n",
              "      <th>ORIGIN_AIRPORT_ASE</th>\n",
              "      <th>ORIGIN_AIRPORT_ATL</th>\n",
              "      <th>ORIGIN_AIRPORT_ATW</th>\n",
              "      <th>ORIGIN_AIRPORT_AUS</th>\n",
              "      <th>ORIGIN_AIRPORT_AVL</th>\n",
              "      <th>ORIGIN_AIRPORT_AVP</th>\n",
              "      <th>ORIGIN_AIRPORT_AZO</th>\n",
              "      <th>ORIGIN_AIRPORT_BDL</th>\n",
              "      <th>ORIGIN_AIRPORT_BET</th>\n",
              "      <th>ORIGIN_AIRPORT_BFL</th>\n",
              "      <th>ORIGIN_AIRPORT_BHM</th>\n",
              "      <th>...</th>\n",
              "      <th>ORIGIN_AIRPORT_SHV</th>\n",
              "      <th>ORIGIN_AIRPORT_SIT</th>\n",
              "      <th>ORIGIN_AIRPORT_SJC</th>\n",
              "      <th>ORIGIN_AIRPORT_SJT</th>\n",
              "      <th>ORIGIN_AIRPORT_SJU</th>\n",
              "      <th>ORIGIN_AIRPORT_SLC</th>\n",
              "      <th>ORIGIN_AIRPORT_SMF</th>\n",
              "      <th>ORIGIN_AIRPORT_SMX</th>\n",
              "      <th>ORIGIN_AIRPORT_SNA</th>\n",
              "      <th>ORIGIN_AIRPORT_SPI</th>\n",
              "      <th>ORIGIN_AIRPORT_SPS</th>\n",
              "      <th>ORIGIN_AIRPORT_SRQ</th>\n",
              "      <th>ORIGIN_AIRPORT_STC</th>\n",
              "      <th>ORIGIN_AIRPORT_STL</th>\n",
              "      <th>ORIGIN_AIRPORT_STT</th>\n",
              "      <th>ORIGIN_AIRPORT_STX</th>\n",
              "      <th>ORIGIN_AIRPORT_SUN</th>\n",
              "      <th>ORIGIN_AIRPORT_SUX</th>\n",
              "      <th>ORIGIN_AIRPORT_SWF</th>\n",
              "      <th>ORIGIN_AIRPORT_SYR</th>\n",
              "      <th>ORIGIN_AIRPORT_TLH</th>\n",
              "      <th>ORIGIN_AIRPORT_TOL</th>\n",
              "      <th>ORIGIN_AIRPORT_TPA</th>\n",
              "      <th>ORIGIN_AIRPORT_TRI</th>\n",
              "      <th>ORIGIN_AIRPORT_TTN</th>\n",
              "      <th>ORIGIN_AIRPORT_TUL</th>\n",
              "      <th>ORIGIN_AIRPORT_TUS</th>\n",
              "      <th>ORIGIN_AIRPORT_TVC</th>\n",
              "      <th>ORIGIN_AIRPORT_TWF</th>\n",
              "      <th>ORIGIN_AIRPORT_TXK</th>\n",
              "      <th>ORIGIN_AIRPORT_TYR</th>\n",
              "      <th>ORIGIN_AIRPORT_TYS</th>\n",
              "      <th>ORIGIN_AIRPORT_UST</th>\n",
              "      <th>ORIGIN_AIRPORT_VEL</th>\n",
              "      <th>ORIGIN_AIRPORT_VLD</th>\n",
              "      <th>ORIGIN_AIRPORT_VPS</th>\n",
              "      <th>ORIGIN_AIRPORT_WRG</th>\n",
              "      <th>ORIGIN_AIRPORT_XNA</th>\n",
              "      <th>ORIGIN_AIRPORT_YAK</th>\n",
              "      <th>ORIGIN_AIRPORT_YUM</th>\n",
              "    </tr>\n",
              "  </thead>\n",
              "  <tbody>\n",
              "    <tr>\n",
              "      <th>0</th>\n",
              "      <td>1</td>\n",
              "      <td>0</td>\n",
              "      <td>0</td>\n",
              "      <td>0</td>\n",
              "      <td>0</td>\n",
              "      <td>0</td>\n",
              "      <td>0</td>\n",
              "      <td>0</td>\n",
              "      <td>0</td>\n",
              "      <td>0</td>\n",
              "      <td>0</td>\n",
              "      <td>0</td>\n",
              "      <td>0</td>\n",
              "      <td>0</td>\n",
              "      <td>0</td>\n",
              "      <td>0</td>\n",
              "      <td>0</td>\n",
              "      <td>0</td>\n",
              "      <td>0</td>\n",
              "      <td>0</td>\n",
              "      <td>0</td>\n",
              "      <td>0</td>\n",
              "      <td>0</td>\n",
              "      <td>0</td>\n",
              "      <td>0</td>\n",
              "      <td>0</td>\n",
              "      <td>0</td>\n",
              "      <td>1</td>\n",
              "      <td>0</td>\n",
              "      <td>0</td>\n",
              "      <td>0</td>\n",
              "      <td>0</td>\n",
              "      <td>0</td>\n",
              "      <td>0</td>\n",
              "      <td>0</td>\n",
              "      <td>0</td>\n",
              "      <td>0</td>\n",
              "      <td>0</td>\n",
              "      <td>0</td>\n",
              "      <td>0</td>\n",
              "      <td>...</td>\n",
              "      <td>0</td>\n",
              "      <td>0</td>\n",
              "      <td>0</td>\n",
              "      <td>0</td>\n",
              "      <td>0</td>\n",
              "      <td>0</td>\n",
              "      <td>0</td>\n",
              "      <td>0</td>\n",
              "      <td>0</td>\n",
              "      <td>0</td>\n",
              "      <td>0</td>\n",
              "      <td>0</td>\n",
              "      <td>0</td>\n",
              "      <td>0</td>\n",
              "      <td>0</td>\n",
              "      <td>0</td>\n",
              "      <td>0</td>\n",
              "      <td>0</td>\n",
              "      <td>0</td>\n",
              "      <td>0</td>\n",
              "      <td>0</td>\n",
              "      <td>0</td>\n",
              "      <td>0</td>\n",
              "      <td>0</td>\n",
              "      <td>0</td>\n",
              "      <td>0</td>\n",
              "      <td>0</td>\n",
              "      <td>0</td>\n",
              "      <td>0</td>\n",
              "      <td>0</td>\n",
              "      <td>0</td>\n",
              "      <td>0</td>\n",
              "      <td>0</td>\n",
              "      <td>0</td>\n",
              "      <td>0</td>\n",
              "      <td>0</td>\n",
              "      <td>0</td>\n",
              "      <td>0</td>\n",
              "      <td>0</td>\n",
              "      <td>0</td>\n",
              "    </tr>\n",
              "    <tr>\n",
              "      <th>1</th>\n",
              "      <td>0</td>\n",
              "      <td>0</td>\n",
              "      <td>0</td>\n",
              "      <td>0</td>\n",
              "      <td>0</td>\n",
              "      <td>0</td>\n",
              "      <td>0</td>\n",
              "      <td>0</td>\n",
              "      <td>0</td>\n",
              "      <td>0</td>\n",
              "      <td>0</td>\n",
              "      <td>0</td>\n",
              "      <td>0</td>\n",
              "      <td>0</td>\n",
              "      <td>0</td>\n",
              "      <td>0</td>\n",
              "      <td>0</td>\n",
              "      <td>0</td>\n",
              "      <td>0</td>\n",
              "      <td>0</td>\n",
              "      <td>0</td>\n",
              "      <td>0</td>\n",
              "      <td>0</td>\n",
              "      <td>0</td>\n",
              "      <td>0</td>\n",
              "      <td>0</td>\n",
              "      <td>0</td>\n",
              "      <td>0</td>\n",
              "      <td>0</td>\n",
              "      <td>0</td>\n",
              "      <td>0</td>\n",
              "      <td>0</td>\n",
              "      <td>0</td>\n",
              "      <td>0</td>\n",
              "      <td>0</td>\n",
              "      <td>0</td>\n",
              "      <td>0</td>\n",
              "      <td>0</td>\n",
              "      <td>0</td>\n",
              "      <td>0</td>\n",
              "      <td>...</td>\n",
              "      <td>0</td>\n",
              "      <td>0</td>\n",
              "      <td>0</td>\n",
              "      <td>0</td>\n",
              "      <td>0</td>\n",
              "      <td>0</td>\n",
              "      <td>0</td>\n",
              "      <td>0</td>\n",
              "      <td>0</td>\n",
              "      <td>0</td>\n",
              "      <td>0</td>\n",
              "      <td>0</td>\n",
              "      <td>0</td>\n",
              "      <td>0</td>\n",
              "      <td>0</td>\n",
              "      <td>0</td>\n",
              "      <td>0</td>\n",
              "      <td>0</td>\n",
              "      <td>0</td>\n",
              "      <td>0</td>\n",
              "      <td>0</td>\n",
              "      <td>0</td>\n",
              "      <td>0</td>\n",
              "      <td>0</td>\n",
              "      <td>0</td>\n",
              "      <td>0</td>\n",
              "      <td>0</td>\n",
              "      <td>0</td>\n",
              "      <td>0</td>\n",
              "      <td>0</td>\n",
              "      <td>0</td>\n",
              "      <td>0</td>\n",
              "      <td>0</td>\n",
              "      <td>0</td>\n",
              "      <td>0</td>\n",
              "      <td>0</td>\n",
              "      <td>0</td>\n",
              "      <td>0</td>\n",
              "      <td>0</td>\n",
              "      <td>0</td>\n",
              "    </tr>\n",
              "    <tr>\n",
              "      <th>2</th>\n",
              "      <td>0</td>\n",
              "      <td>0</td>\n",
              "      <td>0</td>\n",
              "      <td>0</td>\n",
              "      <td>0</td>\n",
              "      <td>0</td>\n",
              "      <td>0</td>\n",
              "      <td>0</td>\n",
              "      <td>0</td>\n",
              "      <td>0</td>\n",
              "      <td>1</td>\n",
              "      <td>0</td>\n",
              "      <td>0</td>\n",
              "      <td>0</td>\n",
              "      <td>0</td>\n",
              "      <td>0</td>\n",
              "      <td>0</td>\n",
              "      <td>0</td>\n",
              "      <td>0</td>\n",
              "      <td>0</td>\n",
              "      <td>0</td>\n",
              "      <td>0</td>\n",
              "      <td>0</td>\n",
              "      <td>0</td>\n",
              "      <td>0</td>\n",
              "      <td>0</td>\n",
              "      <td>0</td>\n",
              "      <td>0</td>\n",
              "      <td>0</td>\n",
              "      <td>0</td>\n",
              "      <td>0</td>\n",
              "      <td>0</td>\n",
              "      <td>0</td>\n",
              "      <td>0</td>\n",
              "      <td>0</td>\n",
              "      <td>0</td>\n",
              "      <td>0</td>\n",
              "      <td>0</td>\n",
              "      <td>0</td>\n",
              "      <td>0</td>\n",
              "      <td>...</td>\n",
              "      <td>0</td>\n",
              "      <td>0</td>\n",
              "      <td>0</td>\n",
              "      <td>0</td>\n",
              "      <td>0</td>\n",
              "      <td>0</td>\n",
              "      <td>0</td>\n",
              "      <td>0</td>\n",
              "      <td>0</td>\n",
              "      <td>0</td>\n",
              "      <td>0</td>\n",
              "      <td>0</td>\n",
              "      <td>0</td>\n",
              "      <td>0</td>\n",
              "      <td>0</td>\n",
              "      <td>0</td>\n",
              "      <td>0</td>\n",
              "      <td>0</td>\n",
              "      <td>0</td>\n",
              "      <td>0</td>\n",
              "      <td>0</td>\n",
              "      <td>0</td>\n",
              "      <td>0</td>\n",
              "      <td>0</td>\n",
              "      <td>0</td>\n",
              "      <td>0</td>\n",
              "      <td>0</td>\n",
              "      <td>0</td>\n",
              "      <td>0</td>\n",
              "      <td>0</td>\n",
              "      <td>0</td>\n",
              "      <td>0</td>\n",
              "      <td>0</td>\n",
              "      <td>0</td>\n",
              "      <td>0</td>\n",
              "      <td>0</td>\n",
              "      <td>0</td>\n",
              "      <td>0</td>\n",
              "      <td>0</td>\n",
              "      <td>0</td>\n",
              "    </tr>\n",
              "    <tr>\n",
              "      <th>3</th>\n",
              "      <td>0</td>\n",
              "      <td>0</td>\n",
              "      <td>0</td>\n",
              "      <td>0</td>\n",
              "      <td>0</td>\n",
              "      <td>0</td>\n",
              "      <td>0</td>\n",
              "      <td>0</td>\n",
              "      <td>0</td>\n",
              "      <td>0</td>\n",
              "      <td>0</td>\n",
              "      <td>0</td>\n",
              "      <td>0</td>\n",
              "      <td>0</td>\n",
              "      <td>0</td>\n",
              "      <td>0</td>\n",
              "      <td>0</td>\n",
              "      <td>0</td>\n",
              "      <td>0</td>\n",
              "      <td>0</td>\n",
              "      <td>0</td>\n",
              "      <td>0</td>\n",
              "      <td>0</td>\n",
              "      <td>0</td>\n",
              "      <td>0</td>\n",
              "      <td>0</td>\n",
              "      <td>0</td>\n",
              "      <td>0</td>\n",
              "      <td>0</td>\n",
              "      <td>0</td>\n",
              "      <td>0</td>\n",
              "      <td>0</td>\n",
              "      <td>0</td>\n",
              "      <td>0</td>\n",
              "      <td>0</td>\n",
              "      <td>0</td>\n",
              "      <td>0</td>\n",
              "      <td>0</td>\n",
              "      <td>0</td>\n",
              "      <td>0</td>\n",
              "      <td>...</td>\n",
              "      <td>0</td>\n",
              "      <td>0</td>\n",
              "      <td>0</td>\n",
              "      <td>0</td>\n",
              "      <td>0</td>\n",
              "      <td>0</td>\n",
              "      <td>0</td>\n",
              "      <td>0</td>\n",
              "      <td>0</td>\n",
              "      <td>0</td>\n",
              "      <td>0</td>\n",
              "      <td>0</td>\n",
              "      <td>0</td>\n",
              "      <td>0</td>\n",
              "      <td>0</td>\n",
              "      <td>0</td>\n",
              "      <td>0</td>\n",
              "      <td>0</td>\n",
              "      <td>0</td>\n",
              "      <td>0</td>\n",
              "      <td>0</td>\n",
              "      <td>0</td>\n",
              "      <td>0</td>\n",
              "      <td>0</td>\n",
              "      <td>0</td>\n",
              "      <td>0</td>\n",
              "      <td>0</td>\n",
              "      <td>0</td>\n",
              "      <td>0</td>\n",
              "      <td>0</td>\n",
              "      <td>0</td>\n",
              "      <td>0</td>\n",
              "      <td>0</td>\n",
              "      <td>0</td>\n",
              "      <td>0</td>\n",
              "      <td>0</td>\n",
              "      <td>0</td>\n",
              "      <td>0</td>\n",
              "      <td>0</td>\n",
              "      <td>0</td>\n",
              "    </tr>\n",
              "    <tr>\n",
              "      <th>4</th>\n",
              "      <td>1</td>\n",
              "      <td>0</td>\n",
              "      <td>0</td>\n",
              "      <td>0</td>\n",
              "      <td>0</td>\n",
              "      <td>0</td>\n",
              "      <td>0</td>\n",
              "      <td>0</td>\n",
              "      <td>0</td>\n",
              "      <td>0</td>\n",
              "      <td>0</td>\n",
              "      <td>0</td>\n",
              "      <td>0</td>\n",
              "      <td>0</td>\n",
              "      <td>0</td>\n",
              "      <td>0</td>\n",
              "      <td>0</td>\n",
              "      <td>0</td>\n",
              "      <td>0</td>\n",
              "      <td>0</td>\n",
              "      <td>0</td>\n",
              "      <td>0</td>\n",
              "      <td>0</td>\n",
              "      <td>0</td>\n",
              "      <td>0</td>\n",
              "      <td>0</td>\n",
              "      <td>0</td>\n",
              "      <td>0</td>\n",
              "      <td>0</td>\n",
              "      <td>0</td>\n",
              "      <td>0</td>\n",
              "      <td>0</td>\n",
              "      <td>0</td>\n",
              "      <td>0</td>\n",
              "      <td>0</td>\n",
              "      <td>0</td>\n",
              "      <td>0</td>\n",
              "      <td>0</td>\n",
              "      <td>0</td>\n",
              "      <td>0</td>\n",
              "      <td>...</td>\n",
              "      <td>0</td>\n",
              "      <td>0</td>\n",
              "      <td>0</td>\n",
              "      <td>0</td>\n",
              "      <td>0</td>\n",
              "      <td>0</td>\n",
              "      <td>0</td>\n",
              "      <td>0</td>\n",
              "      <td>0</td>\n",
              "      <td>0</td>\n",
              "      <td>0</td>\n",
              "      <td>0</td>\n",
              "      <td>0</td>\n",
              "      <td>0</td>\n",
              "      <td>0</td>\n",
              "      <td>0</td>\n",
              "      <td>0</td>\n",
              "      <td>0</td>\n",
              "      <td>0</td>\n",
              "      <td>0</td>\n",
              "      <td>0</td>\n",
              "      <td>0</td>\n",
              "      <td>0</td>\n",
              "      <td>0</td>\n",
              "      <td>0</td>\n",
              "      <td>0</td>\n",
              "      <td>0</td>\n",
              "      <td>0</td>\n",
              "      <td>0</td>\n",
              "      <td>0</td>\n",
              "      <td>0</td>\n",
              "      <td>0</td>\n",
              "      <td>0</td>\n",
              "      <td>0</td>\n",
              "      <td>0</td>\n",
              "      <td>0</td>\n",
              "      <td>0</td>\n",
              "      <td>0</td>\n",
              "      <td>0</td>\n",
              "      <td>0</td>\n",
              "    </tr>\n",
              "  </tbody>\n",
              "</table>\n",
              "<p>5 rows × 324 columns</p>\n",
              "</div>"
            ],
            "text/plain": [
              "   AIRLINE_AS  AIRLINE_B6  ...  ORIGIN_AIRPORT_YAK  ORIGIN_AIRPORT_YUM\n",
              "0           1           0  ...                   0                   0\n",
              "1           0           0  ...                   0                   0\n",
              "2           0           0  ...                   0                   0\n",
              "3           0           0  ...                   0                   0\n",
              "4           1           0  ...                   0                   0\n",
              "\n",
              "[5 rows x 324 columns]"
            ]
          },
          "metadata": {
            "tags": []
          },
          "execution_count": 15
        }
      ]
    },
    {
      "cell_type": "markdown",
      "metadata": {
        "id": "IXDKro-xRND9"
      },
      "source": [
        "Adding the categorical dataframe to the Numerical dataframe to include the categorical data."
      ]
    },
    {
      "cell_type": "code",
      "metadata": {
        "id": "NyECxh3H9OWd"
      },
      "source": [
        "df_flight = pd.concat([df_flight,categorical_df], axis = 1)"
      ],
      "execution_count": 16,
      "outputs": []
    },
    {
      "cell_type": "code",
      "metadata": {
        "colab": {
          "base_uri": "https://localhost:8080/",
          "height": 0
        },
        "id": "gQEeS3C09l7c",
        "outputId": "eaa2ebed-6ba4-4e6c-9beb-3e77dc53c300"
      },
      "source": [
        "input_parameters = col_with_numerical_values + list(categorical_df.columns)\n",
        "df_complete_data = df_flight[input_parameters + ['DEPARTURE_DELAY']]\n",
        "df_complete_data.head()"
      ],
      "execution_count": 17,
      "outputs": [
        {
          "output_type": "execute_result",
          "data": {
            "text/html": [
              "<div>\n",
              "<style scoped>\n",
              "    .dataframe tbody tr th:only-of-type {\n",
              "        vertical-align: middle;\n",
              "    }\n",
              "\n",
              "    .dataframe tbody tr th {\n",
              "        vertical-align: top;\n",
              "    }\n",
              "\n",
              "    .dataframe thead th {\n",
              "        text-align: right;\n",
              "    }\n",
              "</style>\n",
              "<table border=\"1\" class=\"dataframe\">\n",
              "  <thead>\n",
              "    <tr style=\"text-align: right;\">\n",
              "      <th></th>\n",
              "      <th>SCHEDULED_TIME</th>\n",
              "      <th>SCHEDULED_ARRIVAL</th>\n",
              "      <th>SCHEDULED_DEPARTURE</th>\n",
              "      <th>DAY_OF_WEEK</th>\n",
              "      <th>AIRLINE_AS</th>\n",
              "      <th>AIRLINE_B6</th>\n",
              "      <th>AIRLINE_DL</th>\n",
              "      <th>AIRLINE_EV</th>\n",
              "      <th>AIRLINE_F9</th>\n",
              "      <th>AIRLINE_HA</th>\n",
              "      <th>AIRLINE_MQ</th>\n",
              "      <th>AIRLINE_NK</th>\n",
              "      <th>AIRLINE_OO</th>\n",
              "      <th>AIRLINE_UA</th>\n",
              "      <th>AIRLINE_US</th>\n",
              "      <th>AIRLINE_VX</th>\n",
              "      <th>AIRLINE_WN</th>\n",
              "      <th>ORIGIN_AIRPORT_ABI</th>\n",
              "      <th>ORIGIN_AIRPORT_ABQ</th>\n",
              "      <th>ORIGIN_AIRPORT_ABR</th>\n",
              "      <th>ORIGIN_AIRPORT_ABY</th>\n",
              "      <th>ORIGIN_AIRPORT_ACT</th>\n",
              "      <th>ORIGIN_AIRPORT_ACV</th>\n",
              "      <th>ORIGIN_AIRPORT_ACY</th>\n",
              "      <th>ORIGIN_AIRPORT_ADK</th>\n",
              "      <th>ORIGIN_AIRPORT_ADQ</th>\n",
              "      <th>ORIGIN_AIRPORT_AEX</th>\n",
              "      <th>ORIGIN_AIRPORT_AGS</th>\n",
              "      <th>ORIGIN_AIRPORT_ALB</th>\n",
              "      <th>ORIGIN_AIRPORT_ALO</th>\n",
              "      <th>ORIGIN_AIRPORT_AMA</th>\n",
              "      <th>ORIGIN_AIRPORT_ANC</th>\n",
              "      <th>ORIGIN_AIRPORT_APN</th>\n",
              "      <th>ORIGIN_AIRPORT_ASE</th>\n",
              "      <th>ORIGIN_AIRPORT_ATL</th>\n",
              "      <th>ORIGIN_AIRPORT_ATW</th>\n",
              "      <th>ORIGIN_AIRPORT_AUS</th>\n",
              "      <th>ORIGIN_AIRPORT_AVL</th>\n",
              "      <th>ORIGIN_AIRPORT_AVP</th>\n",
              "      <th>ORIGIN_AIRPORT_AZO</th>\n",
              "      <th>...</th>\n",
              "      <th>ORIGIN_AIRPORT_SIT</th>\n",
              "      <th>ORIGIN_AIRPORT_SJC</th>\n",
              "      <th>ORIGIN_AIRPORT_SJT</th>\n",
              "      <th>ORIGIN_AIRPORT_SJU</th>\n",
              "      <th>ORIGIN_AIRPORT_SLC</th>\n",
              "      <th>ORIGIN_AIRPORT_SMF</th>\n",
              "      <th>ORIGIN_AIRPORT_SMX</th>\n",
              "      <th>ORIGIN_AIRPORT_SNA</th>\n",
              "      <th>ORIGIN_AIRPORT_SPI</th>\n",
              "      <th>ORIGIN_AIRPORT_SPS</th>\n",
              "      <th>ORIGIN_AIRPORT_SRQ</th>\n",
              "      <th>ORIGIN_AIRPORT_STC</th>\n",
              "      <th>ORIGIN_AIRPORT_STL</th>\n",
              "      <th>ORIGIN_AIRPORT_STT</th>\n",
              "      <th>ORIGIN_AIRPORT_STX</th>\n",
              "      <th>ORIGIN_AIRPORT_SUN</th>\n",
              "      <th>ORIGIN_AIRPORT_SUX</th>\n",
              "      <th>ORIGIN_AIRPORT_SWF</th>\n",
              "      <th>ORIGIN_AIRPORT_SYR</th>\n",
              "      <th>ORIGIN_AIRPORT_TLH</th>\n",
              "      <th>ORIGIN_AIRPORT_TOL</th>\n",
              "      <th>ORIGIN_AIRPORT_TPA</th>\n",
              "      <th>ORIGIN_AIRPORT_TRI</th>\n",
              "      <th>ORIGIN_AIRPORT_TTN</th>\n",
              "      <th>ORIGIN_AIRPORT_TUL</th>\n",
              "      <th>ORIGIN_AIRPORT_TUS</th>\n",
              "      <th>ORIGIN_AIRPORT_TVC</th>\n",
              "      <th>ORIGIN_AIRPORT_TWF</th>\n",
              "      <th>ORIGIN_AIRPORT_TXK</th>\n",
              "      <th>ORIGIN_AIRPORT_TYR</th>\n",
              "      <th>ORIGIN_AIRPORT_TYS</th>\n",
              "      <th>ORIGIN_AIRPORT_UST</th>\n",
              "      <th>ORIGIN_AIRPORT_VEL</th>\n",
              "      <th>ORIGIN_AIRPORT_VLD</th>\n",
              "      <th>ORIGIN_AIRPORT_VPS</th>\n",
              "      <th>ORIGIN_AIRPORT_WRG</th>\n",
              "      <th>ORIGIN_AIRPORT_XNA</th>\n",
              "      <th>ORIGIN_AIRPORT_YAK</th>\n",
              "      <th>ORIGIN_AIRPORT_YUM</th>\n",
              "      <th>DEPARTURE_DELAY</th>\n",
              "    </tr>\n",
              "  </thead>\n",
              "  <tbody>\n",
              "    <tr>\n",
              "      <th>0</th>\n",
              "      <td>205.0</td>\n",
              "      <td>430</td>\n",
              "      <td>5</td>\n",
              "      <td>4</td>\n",
              "      <td>1</td>\n",
              "      <td>0</td>\n",
              "      <td>0</td>\n",
              "      <td>0</td>\n",
              "      <td>0</td>\n",
              "      <td>0</td>\n",
              "      <td>0</td>\n",
              "      <td>0</td>\n",
              "      <td>0</td>\n",
              "      <td>0</td>\n",
              "      <td>0</td>\n",
              "      <td>0</td>\n",
              "      <td>0</td>\n",
              "      <td>0</td>\n",
              "      <td>0</td>\n",
              "      <td>0</td>\n",
              "      <td>0</td>\n",
              "      <td>0</td>\n",
              "      <td>0</td>\n",
              "      <td>0</td>\n",
              "      <td>0</td>\n",
              "      <td>0</td>\n",
              "      <td>0</td>\n",
              "      <td>0</td>\n",
              "      <td>0</td>\n",
              "      <td>0</td>\n",
              "      <td>0</td>\n",
              "      <td>1</td>\n",
              "      <td>0</td>\n",
              "      <td>0</td>\n",
              "      <td>0</td>\n",
              "      <td>0</td>\n",
              "      <td>0</td>\n",
              "      <td>0</td>\n",
              "      <td>0</td>\n",
              "      <td>0</td>\n",
              "      <td>...</td>\n",
              "      <td>0</td>\n",
              "      <td>0</td>\n",
              "      <td>0</td>\n",
              "      <td>0</td>\n",
              "      <td>0</td>\n",
              "      <td>0</td>\n",
              "      <td>0</td>\n",
              "      <td>0</td>\n",
              "      <td>0</td>\n",
              "      <td>0</td>\n",
              "      <td>0</td>\n",
              "      <td>0</td>\n",
              "      <td>0</td>\n",
              "      <td>0</td>\n",
              "      <td>0</td>\n",
              "      <td>0</td>\n",
              "      <td>0</td>\n",
              "      <td>0</td>\n",
              "      <td>0</td>\n",
              "      <td>0</td>\n",
              "      <td>0</td>\n",
              "      <td>0</td>\n",
              "      <td>0</td>\n",
              "      <td>0</td>\n",
              "      <td>0</td>\n",
              "      <td>0</td>\n",
              "      <td>0</td>\n",
              "      <td>0</td>\n",
              "      <td>0</td>\n",
              "      <td>0</td>\n",
              "      <td>0</td>\n",
              "      <td>0</td>\n",
              "      <td>0</td>\n",
              "      <td>0</td>\n",
              "      <td>0</td>\n",
              "      <td>0</td>\n",
              "      <td>0</td>\n",
              "      <td>0</td>\n",
              "      <td>0</td>\n",
              "      <td>0</td>\n",
              "    </tr>\n",
              "    <tr>\n",
              "      <th>1</th>\n",
              "      <td>280.0</td>\n",
              "      <td>750</td>\n",
              "      <td>10</td>\n",
              "      <td>4</td>\n",
              "      <td>0</td>\n",
              "      <td>0</td>\n",
              "      <td>0</td>\n",
              "      <td>0</td>\n",
              "      <td>0</td>\n",
              "      <td>0</td>\n",
              "      <td>0</td>\n",
              "      <td>0</td>\n",
              "      <td>0</td>\n",
              "      <td>0</td>\n",
              "      <td>0</td>\n",
              "      <td>0</td>\n",
              "      <td>0</td>\n",
              "      <td>0</td>\n",
              "      <td>0</td>\n",
              "      <td>0</td>\n",
              "      <td>0</td>\n",
              "      <td>0</td>\n",
              "      <td>0</td>\n",
              "      <td>0</td>\n",
              "      <td>0</td>\n",
              "      <td>0</td>\n",
              "      <td>0</td>\n",
              "      <td>0</td>\n",
              "      <td>0</td>\n",
              "      <td>0</td>\n",
              "      <td>0</td>\n",
              "      <td>0</td>\n",
              "      <td>0</td>\n",
              "      <td>0</td>\n",
              "      <td>0</td>\n",
              "      <td>0</td>\n",
              "      <td>0</td>\n",
              "      <td>0</td>\n",
              "      <td>0</td>\n",
              "      <td>0</td>\n",
              "      <td>...</td>\n",
              "      <td>0</td>\n",
              "      <td>0</td>\n",
              "      <td>0</td>\n",
              "      <td>0</td>\n",
              "      <td>0</td>\n",
              "      <td>0</td>\n",
              "      <td>0</td>\n",
              "      <td>0</td>\n",
              "      <td>0</td>\n",
              "      <td>0</td>\n",
              "      <td>0</td>\n",
              "      <td>0</td>\n",
              "      <td>0</td>\n",
              "      <td>0</td>\n",
              "      <td>0</td>\n",
              "      <td>0</td>\n",
              "      <td>0</td>\n",
              "      <td>0</td>\n",
              "      <td>0</td>\n",
              "      <td>0</td>\n",
              "      <td>0</td>\n",
              "      <td>0</td>\n",
              "      <td>0</td>\n",
              "      <td>0</td>\n",
              "      <td>0</td>\n",
              "      <td>0</td>\n",
              "      <td>0</td>\n",
              "      <td>0</td>\n",
              "      <td>0</td>\n",
              "      <td>0</td>\n",
              "      <td>0</td>\n",
              "      <td>0</td>\n",
              "      <td>0</td>\n",
              "      <td>0</td>\n",
              "      <td>0</td>\n",
              "      <td>0</td>\n",
              "      <td>0</td>\n",
              "      <td>0</td>\n",
              "      <td>0</td>\n",
              "      <td>0</td>\n",
              "    </tr>\n",
              "    <tr>\n",
              "      <th>2</th>\n",
              "      <td>286.0</td>\n",
              "      <td>806</td>\n",
              "      <td>20</td>\n",
              "      <td>4</td>\n",
              "      <td>0</td>\n",
              "      <td>0</td>\n",
              "      <td>0</td>\n",
              "      <td>0</td>\n",
              "      <td>0</td>\n",
              "      <td>0</td>\n",
              "      <td>0</td>\n",
              "      <td>0</td>\n",
              "      <td>0</td>\n",
              "      <td>0</td>\n",
              "      <td>1</td>\n",
              "      <td>0</td>\n",
              "      <td>0</td>\n",
              "      <td>0</td>\n",
              "      <td>0</td>\n",
              "      <td>0</td>\n",
              "      <td>0</td>\n",
              "      <td>0</td>\n",
              "      <td>0</td>\n",
              "      <td>0</td>\n",
              "      <td>0</td>\n",
              "      <td>0</td>\n",
              "      <td>0</td>\n",
              "      <td>0</td>\n",
              "      <td>0</td>\n",
              "      <td>0</td>\n",
              "      <td>0</td>\n",
              "      <td>0</td>\n",
              "      <td>0</td>\n",
              "      <td>0</td>\n",
              "      <td>0</td>\n",
              "      <td>0</td>\n",
              "      <td>0</td>\n",
              "      <td>0</td>\n",
              "      <td>0</td>\n",
              "      <td>0</td>\n",
              "      <td>...</td>\n",
              "      <td>0</td>\n",
              "      <td>0</td>\n",
              "      <td>0</td>\n",
              "      <td>0</td>\n",
              "      <td>0</td>\n",
              "      <td>0</td>\n",
              "      <td>0</td>\n",
              "      <td>0</td>\n",
              "      <td>0</td>\n",
              "      <td>0</td>\n",
              "      <td>0</td>\n",
              "      <td>0</td>\n",
              "      <td>0</td>\n",
              "      <td>0</td>\n",
              "      <td>0</td>\n",
              "      <td>0</td>\n",
              "      <td>0</td>\n",
              "      <td>0</td>\n",
              "      <td>0</td>\n",
              "      <td>0</td>\n",
              "      <td>0</td>\n",
              "      <td>0</td>\n",
              "      <td>0</td>\n",
              "      <td>0</td>\n",
              "      <td>0</td>\n",
              "      <td>0</td>\n",
              "      <td>0</td>\n",
              "      <td>0</td>\n",
              "      <td>0</td>\n",
              "      <td>0</td>\n",
              "      <td>0</td>\n",
              "      <td>0</td>\n",
              "      <td>0</td>\n",
              "      <td>0</td>\n",
              "      <td>0</td>\n",
              "      <td>0</td>\n",
              "      <td>0</td>\n",
              "      <td>0</td>\n",
              "      <td>0</td>\n",
              "      <td>0</td>\n",
              "    </tr>\n",
              "    <tr>\n",
              "      <th>3</th>\n",
              "      <td>285.0</td>\n",
              "      <td>805</td>\n",
              "      <td>20</td>\n",
              "      <td>4</td>\n",
              "      <td>0</td>\n",
              "      <td>0</td>\n",
              "      <td>0</td>\n",
              "      <td>0</td>\n",
              "      <td>0</td>\n",
              "      <td>0</td>\n",
              "      <td>0</td>\n",
              "      <td>0</td>\n",
              "      <td>0</td>\n",
              "      <td>0</td>\n",
              "      <td>0</td>\n",
              "      <td>0</td>\n",
              "      <td>0</td>\n",
              "      <td>0</td>\n",
              "      <td>0</td>\n",
              "      <td>0</td>\n",
              "      <td>0</td>\n",
              "      <td>0</td>\n",
              "      <td>0</td>\n",
              "      <td>0</td>\n",
              "      <td>0</td>\n",
              "      <td>0</td>\n",
              "      <td>0</td>\n",
              "      <td>0</td>\n",
              "      <td>0</td>\n",
              "      <td>0</td>\n",
              "      <td>0</td>\n",
              "      <td>0</td>\n",
              "      <td>0</td>\n",
              "      <td>0</td>\n",
              "      <td>0</td>\n",
              "      <td>0</td>\n",
              "      <td>0</td>\n",
              "      <td>0</td>\n",
              "      <td>0</td>\n",
              "      <td>0</td>\n",
              "      <td>...</td>\n",
              "      <td>0</td>\n",
              "      <td>0</td>\n",
              "      <td>0</td>\n",
              "      <td>0</td>\n",
              "      <td>0</td>\n",
              "      <td>0</td>\n",
              "      <td>0</td>\n",
              "      <td>0</td>\n",
              "      <td>0</td>\n",
              "      <td>0</td>\n",
              "      <td>0</td>\n",
              "      <td>0</td>\n",
              "      <td>0</td>\n",
              "      <td>0</td>\n",
              "      <td>0</td>\n",
              "      <td>0</td>\n",
              "      <td>0</td>\n",
              "      <td>0</td>\n",
              "      <td>0</td>\n",
              "      <td>0</td>\n",
              "      <td>0</td>\n",
              "      <td>0</td>\n",
              "      <td>0</td>\n",
              "      <td>0</td>\n",
              "      <td>0</td>\n",
              "      <td>0</td>\n",
              "      <td>0</td>\n",
              "      <td>0</td>\n",
              "      <td>0</td>\n",
              "      <td>0</td>\n",
              "      <td>0</td>\n",
              "      <td>0</td>\n",
              "      <td>0</td>\n",
              "      <td>0</td>\n",
              "      <td>0</td>\n",
              "      <td>0</td>\n",
              "      <td>0</td>\n",
              "      <td>0</td>\n",
              "      <td>0</td>\n",
              "      <td>0</td>\n",
              "    </tr>\n",
              "    <tr>\n",
              "      <th>4</th>\n",
              "      <td>235.0</td>\n",
              "      <td>320</td>\n",
              "      <td>25</td>\n",
              "      <td>4</td>\n",
              "      <td>1</td>\n",
              "      <td>0</td>\n",
              "      <td>0</td>\n",
              "      <td>0</td>\n",
              "      <td>0</td>\n",
              "      <td>0</td>\n",
              "      <td>0</td>\n",
              "      <td>0</td>\n",
              "      <td>0</td>\n",
              "      <td>0</td>\n",
              "      <td>0</td>\n",
              "      <td>0</td>\n",
              "      <td>0</td>\n",
              "      <td>0</td>\n",
              "      <td>0</td>\n",
              "      <td>0</td>\n",
              "      <td>0</td>\n",
              "      <td>0</td>\n",
              "      <td>0</td>\n",
              "      <td>0</td>\n",
              "      <td>0</td>\n",
              "      <td>0</td>\n",
              "      <td>0</td>\n",
              "      <td>0</td>\n",
              "      <td>0</td>\n",
              "      <td>0</td>\n",
              "      <td>0</td>\n",
              "      <td>0</td>\n",
              "      <td>0</td>\n",
              "      <td>0</td>\n",
              "      <td>0</td>\n",
              "      <td>0</td>\n",
              "      <td>0</td>\n",
              "      <td>0</td>\n",
              "      <td>0</td>\n",
              "      <td>0</td>\n",
              "      <td>...</td>\n",
              "      <td>0</td>\n",
              "      <td>0</td>\n",
              "      <td>0</td>\n",
              "      <td>0</td>\n",
              "      <td>0</td>\n",
              "      <td>0</td>\n",
              "      <td>0</td>\n",
              "      <td>0</td>\n",
              "      <td>0</td>\n",
              "      <td>0</td>\n",
              "      <td>0</td>\n",
              "      <td>0</td>\n",
              "      <td>0</td>\n",
              "      <td>0</td>\n",
              "      <td>0</td>\n",
              "      <td>0</td>\n",
              "      <td>0</td>\n",
              "      <td>0</td>\n",
              "      <td>0</td>\n",
              "      <td>0</td>\n",
              "      <td>0</td>\n",
              "      <td>0</td>\n",
              "      <td>0</td>\n",
              "      <td>0</td>\n",
              "      <td>0</td>\n",
              "      <td>0</td>\n",
              "      <td>0</td>\n",
              "      <td>0</td>\n",
              "      <td>0</td>\n",
              "      <td>0</td>\n",
              "      <td>0</td>\n",
              "      <td>0</td>\n",
              "      <td>0</td>\n",
              "      <td>0</td>\n",
              "      <td>0</td>\n",
              "      <td>0</td>\n",
              "      <td>0</td>\n",
              "      <td>0</td>\n",
              "      <td>0</td>\n",
              "      <td>0</td>\n",
              "    </tr>\n",
              "  </tbody>\n",
              "</table>\n",
              "<p>5 rows × 329 columns</p>\n",
              "</div>"
            ],
            "text/plain": [
              "   SCHEDULED_TIME  SCHEDULED_ARRIVAL  ...  ORIGIN_AIRPORT_YUM  DEPARTURE_DELAY\n",
              "0           205.0                430  ...                   0                0\n",
              "1           280.0                750  ...                   0                0\n",
              "2           286.0                806  ...                   0                0\n",
              "3           285.0                805  ...                   0                0\n",
              "4           235.0                320  ...                   0                0\n",
              "\n",
              "[5 rows x 329 columns]"
            ]
          },
          "metadata": {
            "tags": []
          },
          "execution_count": 17
        }
      ]
    },
    {
      "cell_type": "markdown",
      "metadata": {
        "id": "SaZmJ4ZNRnYd"
      },
      "source": [
        "## Train-Validation-Test Data Split:\n",
        "Keeping 60% data for training and 20% for validation and 20% for testing"
      ]
    },
    {
      "cell_type": "code",
      "metadata": {
        "colab": {
          "base_uri": "https://localhost:8080/"
        },
        "id": "pX6m48ZMUfPg",
        "outputId": "4e7e2208-5396-4b5d-a78c-e09e5489982b"
      },
      "source": [
        "total_number_of_samples = len(df_complete_data)\n",
        "print(total_number_of_samples)"
      ],
      "execution_count": 18,
      "outputs": [
        {
          "output_type": "stream",
          "text": [
            "457986\n"
          ],
          "name": "stdout"
        }
      ]
    },
    {
      "cell_type": "code",
      "metadata": {
        "id": "QXGt7zFo9l3u"
      },
      "source": [
        "df_complete_data = df_complete_data.sample(total_number_of_samples)\n",
        "df_complete_data = df_complete_data.reset_index(drop = True)"
      ],
      "execution_count": 19,
      "outputs": []
    },
    {
      "cell_type": "code",
      "metadata": {
        "id": "V0rTxVR39l0V"
      },
      "source": [
        "df_for_validation_testing=df_complete_data.sample(frac=0.30)\n"
      ],
      "execution_count": 20,
      "outputs": []
    },
    {
      "cell_type": "code",
      "metadata": {
        "id": "8X8sTeEB9lnL"
      },
      "source": [
        "df_test = df_for_validation_testing.sample(frac = 0.5)\n",
        "df_valid = df_for_validation_testing.drop(df_test.index)"
      ],
      "execution_count": 21,
      "outputs": []
    },
    {
      "cell_type": "code",
      "metadata": {
        "id": "IuvoJC4yFKbQ"
      },
      "source": [
        "df_train=df_complete_data.drop(df_for_validation_testing.index)"
      ],
      "execution_count": 22,
      "outputs": []
    },
    {
      "cell_type": "code",
      "metadata": {
        "colab": {
          "base_uri": "https://localhost:8080/"
        },
        "id": "v1BYmibaFfNx",
        "outputId": "325f9f91-9218-4f9c-8710-e15e96d27acc"
      },
      "source": [
        "X_train = df_train[input_parameters].values\n",
        "X_valid = df_valid[input_parameters].values\n",
        "\n",
        "y_train = df_train['DEPARTURE_DELAY'].values\n",
        "y_valid = df_valid['DEPARTURE_DELAY'].values\n",
        "\n",
        "X_test = df_test[input_parameters].values\n",
        "y_test = df_test['DEPARTURE_DELAY'].values\n",
        "\n",
        "\n",
        "\n",
        "\n",
        "print('Training shapes:',X_train.shape, y_train.shape)\n",
        "print('Validation shapes:',X_valid.shape, y_valid.shape)"
      ],
      "execution_count": 23,
      "outputs": [
        {
          "output_type": "stream",
          "text": [
            "Training shapes: (320590, 328) (320590,)\n",
            "Validation shapes: (68698, 328) (68698,)\n"
          ],
          "name": "stdout"
        }
      ]
    },
    {
      "cell_type": "markdown",
      "metadata": {
        "id": "mc1EvLRHTodu"
      },
      "source": [
        "Scaling the data matrices using standat=rd scaler"
      ]
    },
    {
      "cell_type": "code",
      "metadata": {
        "id": "89vka1dhFfLZ"
      },
      "source": [
        "scaler  = StandardScaler()\n",
        "scaler.fit(X_train)\n",
        "X_train_sc = scaler.transform(X_train)\n",
        "X_valid_sc = scaler.transform(X_valid)\n",
        "X_test_sc = scaler.transform(X_test)"
      ],
      "execution_count": 24,
      "outputs": []
    },
    {
      "cell_type": "code",
      "metadata": {
        "id": "WvgeYtdiFe_i"
      },
      "source": [
        "threshold_value = 0.5"
      ],
      "execution_count": 25,
      "outputs": []
    },
    {
      "cell_type": "markdown",
      "metadata": {
        "id": "Y_85oRorVNPw"
      },
      "source": [
        "# Applying Machine Learning Algorithms"
      ]
    },
    {
      "cell_type": "markdown",
      "metadata": {
        "id": "b-pzc83qVVfY"
      },
      "source": [
        "## Logistic Regression model"
      ]
    },
    {
      "cell_type": "markdown",
      "metadata": {
        "id": "DosnbqqvgDJQ"
      },
      "source": [
        "### fit the model and predict"
      ]
    },
    {
      "cell_type": "code",
      "metadata": {
        "id": "QGPD8o_NFe9S"
      },
      "source": [
        "model1=LogisticRegression()\n",
        "model1.fit(X_train_sc, y_train)\n",
        "y_valid_preds = model1.predict_proba(X_valid_sc)[:,1]"
      ],
      "execution_count": 26,
      "outputs": []
    },
    {
      "cell_type": "code",
      "metadata": {
        "colab": {
          "base_uri": "https://localhost:8080/"
        },
        "id": "2ScAemTHnjxF",
        "outputId": "aed55b57-ecd3-47e1-ad89-0c9cb6fe91d9"
      },
      "source": [
        "print('accuracy on validation data:%.3f'%accuracy_score(y_valid, (y_valid_preds > threshold_value)) )\n",
        "print(\"precision on validation data:%.3f \"%precision_score(y_valid, (y_valid_preds > threshold_value)) )\n",
        "print(\"recall on validation data:%.3f \"%recall_score(y_valid, (y_valid_preds > threshold_value)) )\n",
        "print(\"f1 on validation data: %.3f\"%f1_score(y_valid, (y_valid_preds > threshold_value)) )\n",
        "print(\"AUC on validation data: %.3f\"%roc_auc_score(y_valid, y_valid_preds ) )"
      ],
      "execution_count": 27,
      "outputs": [
        {
          "output_type": "stream",
          "text": [
            "accuracy on validation data:0.645\n",
            "precision on validation data:0.581 \n",
            "recall on validation data:0.295 \n",
            "f1 on validation data: 0.391\n",
            "AUC on validation data: 0.652\n"
          ],
          "name": "stdout"
        }
      ]
    },
    {
      "cell_type": "code",
      "metadata": {
        "id": "UcYTMhWebIDl"
      },
      "source": [
        "y_test_preds = model1.predict_proba(X_test_sc)[:,1]"
      ],
      "execution_count": 28,
      "outputs": []
    },
    {
      "cell_type": "code",
      "metadata": {
        "colab": {
          "base_uri": "https://localhost:8080/"
        },
        "id": "UFmPzZk-bZ-J",
        "outputId": "bb98e41a-6db4-4ae6-908d-96cc111aedbc"
      },
      "source": [
        "print('accuracy on test data:%.3f'%accuracy_score(y_test, (y_test_preds > threshold_value)) )\n",
        "print(\"precision on test data:%.3f \"%precision_score(y_test, (y_test_preds > threshold_value)) )\n",
        "print(\"recall on test data:%.3f \"%recall_score(y_test, (y_test_preds > threshold_value)) )\n",
        "print(\"f1 on test data: %.3f\"%f1_score(y_test, (y_test_preds > threshold_value)) )\n",
        "print(\"AUC on test data: %.3f\"%roc_auc_score(y_test, y_test_preds ) )"
      ],
      "execution_count": 29,
      "outputs": [
        {
          "output_type": "stream",
          "text": [
            "accuracy on test data:0.645\n",
            "precision on test data:0.572 \n",
            "recall on test data:0.295 \n",
            "f1 on test data: 0.389\n",
            "AUC on test data: 0.656\n"
          ],
          "name": "stdout"
        }
      ]
    },
    {
      "cell_type": "markdown",
      "metadata": {
        "id": "_qYgR4CPhpGc"
      },
      "source": [
        "### Plot ROC curve"
      ]
    },
    {
      "cell_type": "code",
      "metadata": {
        "colab": {
          "base_uri": "https://localhost:8080/",
          "height": 0
        },
        "id": "2kB79oVzblyg",
        "outputId": "eb8205ab-6d30-4b5e-911d-6d8580f4e60f"
      },
      "source": [
        "from sklearn.metrics import roc_curve \n",
        "\n",
        "fpr_valid, tpr_valid, thresholds_valid = roc_curve(y_valid, y_valid_preds)\n",
        "auc_valid = roc_auc_score(y_valid, y_valid_preds)\n",
        "\n",
        "fpr_test, tpr_test, thresholds_test = roc_curve(y_test, y_test_preds)\n",
        "auc_test = roc_auc_score(y_test, y_test_preds)\n",
        "\n",
        "plt.plot(fpr_valid, tpr_valid, 'r-',label ='AUC for validation Data:%.3f'%auc_valid)\n",
        "plt.plot(fpr_test, tpr_test, 'b-',label ='AUC for test data:%.3f'%auc_test)\n",
        "plt.plot([0,1],[0,1],'k--')\n",
        "plt.xlabel('False Positive Rate')\n",
        "plt.ylabel('True Positive Rate')\n",
        "plt.legend()\n",
        "plt.show()"
      ],
      "execution_count": 30,
      "outputs": [
        {
          "output_type": "display_data",
          "data": {
            "image/png": "[encoded data removed]",
            "text/plain": [
              "<Figure size 432x288 with 1 Axes>"
            ]
          },
          "metadata": {
            "tags": [],
            "needs_background": "light"
          }
        }
      ]
    },
    {
      "cell_type": "markdown",
      "metadata": {
        "id": "aIlczImtVfbu"
      },
      "source": [
        "## Decision Tree Classifier"
      ]
    },
    {
      "cell_type": "markdown",
      "metadata": {
        "id": "2ywdXNbLg0QH"
      },
      "source": [
        "### fit the model and predict"
      ]
    },
    {
      "cell_type": "code",
      "metadata": {
        "id": "Fl754KCqFe11"
      },
      "source": [
        "model2 = DecisionTreeClassifier(max_depth=10)\n",
        "model2.fit(X_train_sc, y_train)\n",
        "y_valid_preds = model2.predict_proba(X_valid_sc)[:,1]\n"
      ],
      "execution_count": 31,
      "outputs": []
    },
    {
      "cell_type": "code",
      "metadata": {
        "colab": {
          "base_uri": "https://localhost:8080/"
        },
        "id": "zit5WTNOqDm1",
        "outputId": "683ce409-4c41-47af-84d3-5a3cff31cdc7"
      },
      "source": [
        "print('accuracy on validation data:%.3f'%accuracy_score(y_valid, (y_valid_preds > threshold_value)) )\n",
        "print(\"precision on validation data:%.3f \"%precision_score(y_valid, (y_valid_preds > threshold_value)) )\n",
        "print(\"recall on validation data:%.3f \"%recall_score(y_valid, (y_valid_preds > threshold_value)) )\n",
        "print(\"f1 on validation data: %.3f\"%f1_score(y_valid, (y_valid_preds > threshold_value)) )\n",
        "print(\"AUC on validation data: %.3f\"%roc_auc_score(y_valid, y_valid_preds ) )"
      ],
      "execution_count": 32,
      "outputs": [
        {
          "output_type": "stream",
          "text": [
            "accuracy on validation data:0.653\n",
            "precision on validation data:0.598 \n",
            "recall on validation data:0.312 \n",
            "f1 on validation data: 0.410\n",
            "AUC on validation data: 0.666\n"
          ],
          "name": "stdout"
        }
      ]
    },
    {
      "cell_type": "code",
      "metadata": {
        "id": "AmRHHst5cm1L"
      },
      "source": [
        "y_test_preds = model2.predict_proba(X_test_sc)[:,1]"
      ],
      "execution_count": 33,
      "outputs": []
    },
    {
      "cell_type": "code",
      "metadata": {
        "colab": {
          "base_uri": "https://localhost:8080/"
        },
        "id": "tsfCZRKAcm1M",
        "outputId": "5ae7b9c6-6bb5-4b33-b0ec-16fbd9275f23"
      },
      "source": [
        "print('accuracy on test data:%.3f'%accuracy_score(y_test, (y_test_preds > threshold_value)) )\n",
        "print(\"precision on test data:%.3f \"%precision_score(y_test, (y_test_preds > threshold_value)) )\n",
        "print(\"recall on test data:%.3f \"%recall_score(y_test, (y_test_preds > threshold_value)) )\n",
        "print(\"f1 on test data: %.3f\"%f1_score(y_test, (y_test_preds > threshold_value)) )\n",
        "print(\"AUC on test data: %.3f\"%roc_auc_score(y_test, y_test_preds ) )"
      ],
      "execution_count": 34,
      "outputs": [
        {
          "output_type": "stream",
          "text": [
            "accuracy on test data:0.655\n",
            "precision on test data:0.595 \n",
            "recall on test data:0.315 \n",
            "f1 on test data: 0.412\n",
            "AUC on test data: 0.664\n"
          ],
          "name": "stdout"
        }
      ]
    },
    {
      "cell_type": "markdown",
      "metadata": {
        "id": "m5IJ0_Z6hxjT"
      },
      "source": [
        "### Plot ROC curve"
      ]
    },
    {
      "cell_type": "code",
      "metadata": {
        "colab": {
          "base_uri": "https://localhost:8080/",
          "height": 279
        },
        "id": "Hc4U0ljUcm1N",
        "outputId": "b43db0c3-c686-4042-def6-14dba7806266"
      },
      "source": [
        "from sklearn.metrics import roc_curve \n",
        "\n",
        "fpr_valid, tpr_valid, thresholds_valid = roc_curve(y_valid, y_valid_preds)\n",
        "auc_valid = roc_auc_score(y_valid, y_valid_preds)\n",
        "\n",
        "fpr_test, tpr_test, thresholds_test = roc_curve(y_test, y_test_preds)\n",
        "auc_test = roc_auc_score(y_test, y_test_preds)\n",
        "\n",
        "plt.plot(fpr_valid, tpr_valid, 'r-',label ='AUC for validation Data:%.3f'%auc_valid)\n",
        "plt.plot(fpr_test, tpr_test, 'b-',label ='AUC for test data:%.3f'%auc_test)\n",
        "plt.plot([0,1],[0,1],'k--')\n",
        "plt.xlabel('False Positive Rate')\n",
        "plt.ylabel('True Positive Rate')\n",
        "plt.legend()\n",
        "plt.show()"
      ],
      "execution_count": 35,
      "outputs": [
        {
          "output_type": "display_data",
          "data": {
            "image/png": "[encoded data removed]",
            "text/plain": [
              "<Figure size 432x288 with 1 Axes>"
            ]
          },
          "metadata": {
            "tags": [],
            "needs_background": "light"
          }
        }
      ]
    },
    {
      "cell_type": "markdown",
      "metadata": {
        "id": "wcVYzh7QVl90"
      },
      "source": [
        "## Gaussian Naive Bayes"
      ]
    },
    {
      "cell_type": "markdown",
      "metadata": {
        "id": "HuJ2S1sDg4j3"
      },
      "source": [
        "### fit the model and predict"
      ]
    },
    {
      "cell_type": "code",
      "metadata": {
        "id": "QES2_KWJqIFo"
      },
      "source": [
        "model3 = GaussianNB()\n",
        "model3.fit(X_train_sc, y_train)\n",
        "y_valid_preds = model3.predict_proba(X_valid_sc)[:,1]\n"
      ],
      "execution_count": 36,
      "outputs": []
    },
    {
      "cell_type": "code",
      "metadata": {
        "colab": {
          "base_uri": "https://localhost:8080/"
        },
        "id": "75P462YFqVc7",
        "outputId": "4311b58f-5685-48e5-f98b-607b0318f7c1"
      },
      "source": [
        "print('accuracy on validation data:%.3f'%accuracy_score(y_valid, (y_valid_preds > threshold_value)) )\n",
        "print(\"precision on validation data:%.3f \"%precision_score(y_valid, (y_valid_preds > threshold_value)) )\n",
        "print(\"recall on validation data:%.3f \"%recall_score(y_valid, (y_valid_preds > threshold_value)) )\n",
        "print(\"f1 on validation data: %.3f\"%f1_score(y_valid, (y_valid_preds > threshold_value)) )\n",
        "print(\"AUC on validation data: %.3f\"%roc_auc_score(y_valid, y_valid_preds ) )"
      ],
      "execution_count": 37,
      "outputs": [
        {
          "output_type": "stream",
          "text": [
            "accuracy on validation data:0.438\n",
            "precision on validation data:0.400 \n",
            "recall on validation data:0.910 \n",
            "f1 on validation data: 0.556\n",
            "AUC on validation data: 0.534\n"
          ],
          "name": "stdout"
        }
      ]
    },
    {
      "cell_type": "code",
      "metadata": {
        "id": "OWH_Vi-ocrhb"
      },
      "source": [
        "y_test_preds = model3.predict_proba(X_test_sc)[:,1]"
      ],
      "execution_count": 38,
      "outputs": []
    },
    {
      "cell_type": "code",
      "metadata": {
        "colab": {
          "base_uri": "https://localhost:8080/"
        },
        "id": "sW9zOCHucrhc",
        "outputId": "68f18f50-a8ea-44fb-e79a-476a8ad14304"
      },
      "source": [
        "print('accuracy on test data:%.3f'%accuracy_score(y_test, (y_test_preds > threshold_value)) )\n",
        "print(\"precision on test data:%.3f \"%precision_score(y_test, (y_test_preds > threshold_value)) )\n",
        "print(\"recall on test data:%.3f \"%recall_score(y_test, (y_test_preds > threshold_value)) )\n",
        "print(\"f1 on test data: %.3f\"%f1_score(y_test, (y_test_preds > threshold_value)) )\n",
        "print(\"AUC on test data: %.3f\"%roc_auc_score(y_test, y_test_preds ) )"
      ],
      "execution_count": 39,
      "outputs": [
        {
          "output_type": "stream",
          "text": [
            "accuracy on test data:0.435\n",
            "precision on test data:0.397 \n",
            "recall on test data:0.914 \n",
            "f1 on test data: 0.554\n",
            "AUC on test data: 0.535\n"
          ],
          "name": "stdout"
        }
      ]
    },
    {
      "cell_type": "markdown",
      "metadata": {
        "id": "yHFAW4EdhzLK"
      },
      "source": [
        "### Plot ROC curve"
      ]
    },
    {
      "cell_type": "code",
      "metadata": {
        "colab": {
          "base_uri": "https://localhost:8080/",
          "height": 279
        },
        "id": "Idx5gFqGcrhd",
        "outputId": "be19a85f-2ebd-40aa-c8b5-33ec14f8c489"
      },
      "source": [
        "from sklearn.metrics import roc_curve \n",
        "\n",
        "fpr_valid, tpr_valid, thresholds_valid = roc_curve(y_valid, y_valid_preds)\n",
        "auc_valid = roc_auc_score(y_valid, y_valid_preds)\n",
        "\n",
        "fpr_test, tpr_test, thresholds_test = roc_curve(y_test, y_test_preds)\n",
        "auc_test = roc_auc_score(y_test, y_test_preds)\n",
        "\n",
        "plt.plot(fpr_valid, tpr_valid, 'r-',label ='AUC for validation Data:%.3f'%auc_valid)\n",
        "plt.plot(fpr_test, tpr_test, 'b-',label ='AUC for test data:%.3f'%auc_test)\n",
        "plt.plot([0,1],[0,1],'k--')\n",
        "plt.xlabel('False Positive Rate')\n",
        "plt.ylabel('True Positive Rate')\n",
        "plt.legend()\n",
        "plt.show()"
      ],
      "execution_count": 40,
      "outputs": [
        {
          "output_type": "display_data",
          "data": {
            "image/png": "[encoded data removed]",
            "text/plain": [
              "<Figure size 432x288 with 1 Axes>"
            ]
          },
          "metadata": {
            "tags": [],
            "needs_background": "light"
          }
        }
      ]
    },
    {
      "cell_type": "markdown",
      "metadata": {
        "id": "z2HvnglkVrqf"
      },
      "source": [
        "## SGDClassifier"
      ]
    },
    {
      "cell_type": "markdown",
      "metadata": {
        "id": "75XiXuncg77Z"
      },
      "source": [
        "### fit the model and predict"
      ]
    },
    {
      "cell_type": "code",
      "metadata": {
        "id": "FIRHT5-aqZT-"
      },
      "source": [
        "model4=SGDClassifier(loss = 'log',alpha = 0.1)\n",
        "model4.fit(X_train_sc, y_train)\n",
        "y_valid_preds = model4.predict_proba(X_valid_sc)[:,1]"
      ],
      "execution_count": 41,
      "outputs": []
    },
    {
      "cell_type": "code",
      "metadata": {
        "colab": {
          "base_uri": "https://localhost:8080/"
        },
        "id": "5gXbF4Ceqihx",
        "outputId": "2a7894a7-17b9-401f-b494-dbfce9d2410a"
      },
      "source": [
        "print('accuracy on validation data:%.3f'%accuracy_score(y_valid, (y_valid_preds > threshold_value)) )\n",
        "print(\"precision on validation data:%.3f \"%precision_score(y_valid, (y_valid_preds > threshold_value)) )\n",
        "print(\"recall on validation data:%.3f \"%recall_score(y_valid, (y_valid_preds > threshold_value)) )\n",
        "print(\"f1 on validation data: %.3f\"%f1_score(y_valid, (y_valid_preds > threshold_value)) )\n",
        "print(\"AUC on validation data: %.3f\"%roc_auc_score(y_valid, y_valid_preds ) )"
      ],
      "execution_count": 42,
      "outputs": [
        {
          "output_type": "stream",
          "text": [
            "accuracy on validation data:0.640\n",
            "precision on validation data:0.599 \n",
            "recall on validation data:0.211 \n",
            "f1 on validation data: 0.312\n",
            "AUC on validation data: 0.651\n"
          ],
          "name": "stdout"
        }
      ]
    },
    {
      "cell_type": "code",
      "metadata": {
        "id": "gqCA8GF0dVc1"
      },
      "source": [
        "y_test_preds = model4.predict_proba(X_test_sc)[:,1]"
      ],
      "execution_count": 43,
      "outputs": []
    },
    {
      "cell_type": "code",
      "metadata": {
        "colab": {
          "base_uri": "https://localhost:8080/"
        },
        "id": "a1WNN7ASdVc3",
        "outputId": "b04fa0ae-0f60-4879-91ea-e1679aa7c6c8"
      },
      "source": [
        "print('accuracy on test data:%.3f'%accuracy_score(y_test, (y_test_preds > threshold_value)) )\n",
        "print(\"precision on test data:%.3f \"%precision_score(y_test, (y_test_preds > threshold_value)) )\n",
        "print(\"recall on test data:%.3f \"%recall_score(y_test, (y_test_preds > threshold_value)) )\n",
        "print(\"f1 on test data: %.3f\"%f1_score(y_test, (y_test_preds > threshold_value)) )\n",
        "print(\"AUC on test data: %.3f\"%roc_auc_score(y_test, y_test_preds ) )"
      ],
      "execution_count": 44,
      "outputs": [
        {
          "output_type": "stream",
          "text": [
            "accuracy on test data:0.642\n",
            "precision on test data:0.591 \n",
            "recall on test data:0.213 \n",
            "f1 on test data: 0.314\n",
            "AUC on test data: 0.655\n"
          ],
          "name": "stdout"
        }
      ]
    },
    {
      "cell_type": "markdown",
      "metadata": {
        "id": "FDtGedxCh1BO"
      },
      "source": [
        "### Plot ROC curve"
      ]
    },
    {
      "cell_type": "code",
      "metadata": {
        "colab": {
          "base_uri": "https://localhost:8080/",
          "height": 279
        },
        "id": "B5Lu9G9xdVc4",
        "outputId": "34d8e8ce-b5c9-496b-b046-8aedb060f802"
      },
      "source": [
        "from sklearn.metrics import roc_curve \n",
        "\n",
        "fpr_valid, tpr_valid, thresholds_valid = roc_curve(y_valid, y_valid_preds)\n",
        "auc_valid = roc_auc_score(y_valid, y_valid_preds)\n",
        "\n",
        "fpr_test, tpr_test, thresholds_test = roc_curve(y_test, y_test_preds)\n",
        "auc_test = roc_auc_score(y_test, y_test_preds)\n",
        "\n",
        "plt.plot(fpr_valid, tpr_valid, 'r-',label ='AUC for validation Data:%.3f'%auc_valid)\n",
        "plt.plot(fpr_test, tpr_test, 'b-',label ='AUC for test data:%.3f'%auc_test)\n",
        "plt.plot([0,1],[0,1],'k--')\n",
        "plt.xlabel('False Positive Rate')\n",
        "plt.ylabel('True Positive Rate')\n",
        "plt.legend()\n",
        "plt.show()"
      ],
      "execution_count": 45,
      "outputs": [
        {
          "output_type": "display_data",
          "data": {
            "image/png": "[encoded data removed]",
            "text/plain": [
              "<Figure size 432x288 with 1 Axes>"
            ]
          },
          "metadata": {
            "tags": [],
            "needs_background": "light"
          }
        }
      ]
    },
    {
      "cell_type": "markdown",
      "metadata": {
        "id": "f5u7Le8wVwxB"
      },
      "source": [
        "## Random Forest Classifier"
      ]
    },
    {
      "cell_type": "markdown",
      "metadata": {
        "id": "2QtlFPRng_ju"
      },
      "source": [
        "### fit the model and predict"
      ]
    },
    {
      "cell_type": "code",
      "metadata": {
        "id": "IPmjrEGQqmh2"
      },
      "source": [
        "model5=RandomForestClassifier(max_depth = 6)\n",
        "model5.fit(X_train_sc, y_train)\n",
        "y_valid_preds = model5.predict_proba(X_valid_sc)[:,1]"
      ],
      "execution_count": 46,
      "outputs": []
    },
    {
      "cell_type": "code",
      "metadata": {
        "colab": {
          "base_uri": "https://localhost:8080/"
        },
        "id": "oc7tdVfLqwtO",
        "outputId": "06de94bb-0830-43b2-c0fc-ebc18d7da0b6"
      },
      "source": [
        "print('accuracy on validation data:%.3f'%accuracy_score(y_valid, (y_valid_preds > threshold_value)) )\n",
        "print(\"precision on validation data:%.3f \"%precision_score(y_valid, (y_valid_preds > threshold_value)) )\n",
        "print(\"recall on validation data:%.3f \"%recall_score(y_valid, (y_valid_preds > threshold_value)) )\n",
        "print(\"f1 on validation data: %.3f\"%f1_score(y_valid, (y_valid_preds > threshold_value)) )\n",
        "print(\"AUC on validation data: %.3f\"%roc_auc_score(y_valid, y_valid_preds ) )"
      ],
      "execution_count": 47,
      "outputs": [
        {
          "output_type": "stream",
          "text": [
            "accuracy on validation data:0.616\n",
            "precision on validation data:0.794 \n",
            "recall on validation data:0.010 \n",
            "f1 on validation data: 0.019\n",
            "AUC on validation data: 0.660\n"
          ],
          "name": "stdout"
        }
      ]
    },
    {
      "cell_type": "code",
      "metadata": {
        "id": "601we5t1dXq1"
      },
      "source": [
        "y_test_preds = model5.predict_proba(X_test_sc)[:,1]"
      ],
      "execution_count": 48,
      "outputs": []
    },
    {
      "cell_type": "code",
      "metadata": {
        "colab": {
          "base_uri": "https://localhost:8080/"
        },
        "id": "T6fMMeVadXq2",
        "outputId": "04fe824b-eaa5-4246-fc3e-196252e0c5e0"
      },
      "source": [
        "print('accuracy on test data:%.3f'%accuracy_score(y_test, (y_test_preds > threshold_value)) )\n",
        "print(\"precision on test data:%.3f \"%precision_score(y_test, (y_test_preds > threshold_value)) )\n",
        "print(\"recall on test data:%.3f \"%recall_score(y_test, (y_test_preds > threshold_value)) )\n",
        "print(\"f1 on test data: %.3f\"%f1_score(y_test, (y_test_preds > threshold_value)) )\n",
        "print(\"AUC on test data: %.3f\"%roc_auc_score(y_test, y_test_preds ) )"
      ],
      "execution_count": 49,
      "outputs": [
        {
          "output_type": "stream",
          "text": [
            "accuracy on test data:0.619\n",
            "precision on test data:0.786 \n",
            "recall on test data:0.009 \n",
            "f1 on test data: 0.018\n",
            "AUC on test data: 0.660\n"
          ],
          "name": "stdout"
        }
      ]
    },
    {
      "cell_type": "markdown",
      "metadata": {
        "id": "-cZroT5oh286"
      },
      "source": [
        "### Plot ROC curve"
      ]
    },
    {
      "cell_type": "code",
      "metadata": {
        "colab": {
          "base_uri": "https://localhost:8080/",
          "height": 0
        },
        "id": "DP7ecovxdXq3",
        "outputId": "83cf82ba-853e-48af-ee49-06b0f6b605b7"
      },
      "source": [
        "from sklearn.metrics import roc_curve \n",
        "\n",
        "fpr_valid, tpr_valid, thresholds_valid = roc_curve(y_valid, y_valid_preds)\n",
        "auc_valid = roc_auc_score(y_valid, y_valid_preds)\n",
        "\n",
        "fpr_test, tpr_test, thresholds_test = roc_curve(y_test, y_test_preds)\n",
        "auc_test = roc_auc_score(y_test, y_test_preds)\n",
        "\n",
        "plt.plot(fpr_valid, tpr_valid, 'r-',label ='AUC for validation Data:%.3f'%auc_valid)\n",
        "plt.plot(fpr_test, tpr_test, 'b-',label ='AUC for test data:%.3f'%auc_test)\n",
        "plt.plot([0,1],[0,1],'k--')\n",
        "plt.xlabel('False Positive Rate')\n",
        "plt.ylabel('True Positive Rate')\n",
        "plt.legend()\n",
        "plt.show()"
      ],
      "execution_count": 50,
      "outputs": [
        {
          "output_type": "display_data",
          "data": {
            "image/png": "[encoded data removed]",
            "text/plain": [
              "<Figure size 432x288 with 1 Axes>"
            ]
          },
          "metadata": {
            "tags": [],
            "needs_background": "light"
          }
        }
      ]
    },
    {
      "cell_type": "markdown",
      "metadata": {
        "id": "v7b-i8glV1wy"
      },
      "source": [
        "## Gradient Boosting Classifier"
      ]
    },
    {
      "cell_type": "markdown",
      "metadata": {
        "id": "J5DP5DDwhBv3"
      },
      "source": [
        "### fit the model and predict"
      ]
    },
    {
      "cell_type": "code",
      "metadata": {
        "id": "rkQzj_7Bq6O7"
      },
      "source": [
        "model6 =GradientBoostingClassifier(n_estimators=100, learning_rate=1.0)\n",
        "model6.fit(X_train_sc, y_train)\n",
        "y_valid_preds = model6.predict_proba(X_valid_sc)[:,1]"
      ],
      "execution_count": 51,
      "outputs": []
    },
    {
      "cell_type": "code",
      "metadata": {
        "colab": {
          "base_uri": "https://localhost:8080/"
        },
        "id": "4dHb80a4rBBn",
        "outputId": "aee22dd9-9b88-4795-dadf-5542253811f8"
      },
      "source": [
        "print('accuracy on validation data:%.3f'%accuracy_score(y_valid, (y_valid_preds > threshold_value)) )\n",
        "print(\"precision on validation data:%.3f \"%precision_score(y_valid, (y_valid_preds > threshold_value)) )\n",
        "print(\"recall on validation data:%.3f \"%recall_score(y_valid, (y_valid_preds > threshold_value)) )\n",
        "print(\"f1 on validation data: %.3f\"%f1_score(y_valid, (y_valid_preds > threshold_value)) )\n",
        "print(\"AUC on validation data: %.3f\"%roc_auc_score(y_valid, y_valid_preds ) )"
      ],
      "execution_count": 52,
      "outputs": [
        {
          "output_type": "stream",
          "text": [
            "accuracy on validation data:0.659\n",
            "precision on validation data:0.594 \n",
            "recall on validation data:0.371 \n",
            "f1 on validation data: 0.457\n",
            "AUC on validation data: 0.681\n"
          ],
          "name": "stdout"
        }
      ]
    },
    {
      "cell_type": "code",
      "metadata": {
        "id": "0MYaYNILdYif"
      },
      "source": [
        "y_test_preds = model6.predict_proba(X_test_sc)[:,1]"
      ],
      "execution_count": 53,
      "outputs": []
    },
    {
      "cell_type": "code",
      "metadata": {
        "colab": {
          "base_uri": "https://localhost:8080/"
        },
        "id": "g4JFnwF5dYif",
        "outputId": "895c9b10-4610-4008-a0f2-3d779041d252"
      },
      "source": [
        "print('accuracy on test data:%.3f'%accuracy_score(y_test, (y_test_preds > threshold_value)) )\n",
        "print(\"precision on test data:%.3f \"%precision_score(y_test, (y_test_preds > threshold_value)) )\n",
        "print(\"recall on test data:%.3f \"%recall_score(y_test, (y_test_preds > threshold_value)) )\n",
        "print(\"f1 on test data: %.3f\"%f1_score(y_test, (y_test_preds > threshold_value)) )\n",
        "print(\"AUC on test data: %.3f\"%roc_auc_score(y_test, y_test_preds ) )"
      ],
      "execution_count": 54,
      "outputs": [
        {
          "output_type": "stream",
          "text": [
            "accuracy on test data:0.662\n",
            "precision on test data:0.593 \n",
            "recall on test data:0.378 \n",
            "f1 on test data: 0.462\n",
            "AUC on test data: 0.685\n"
          ],
          "name": "stdout"
        }
      ]
    },
    {
      "cell_type": "markdown",
      "metadata": {
        "id": "8ME2z8DJh4u5"
      },
      "source": [
        "### Plot ROC curve"
      ]
    },
    {
      "cell_type": "code",
      "metadata": {
        "colab": {
          "base_uri": "https://localhost:8080/",
          "height": 279
        },
        "id": "OqX1sh9TdYih",
        "outputId": "2c03d5ba-96bb-49b6-ff0e-cffa4ece8271"
      },
      "source": [
        "from sklearn.metrics import roc_curve \n",
        "\n",
        "fpr_valid, tpr_valid, thresholds_valid = roc_curve(y_valid, y_valid_preds)\n",
        "auc_valid = roc_auc_score(y_valid, y_valid_preds)\n",
        "\n",
        "fpr_test, tpr_test, thresholds_test = roc_curve(y_test, y_test_preds)\n",
        "auc_test = roc_auc_score(y_test, y_test_preds)\n",
        "\n",
        "plt.plot(fpr_valid, tpr_valid, 'r-',label ='AUC for validation Data:%.3f'%auc_valid)\n",
        "plt.plot(fpr_test, tpr_test, 'b-',label ='AUC for test data:%.3f'%auc_test)\n",
        "plt.plot([0,1],[0,1],'k--')\n",
        "plt.xlabel('False Positive Rate')\n",
        "plt.ylabel('True Positive Rate')\n",
        "plt.legend()\n",
        "plt.show()"
      ],
      "execution_count": 55,
      "outputs": [
        {
          "output_type": "display_data",
          "data": {
            "image/png": "[encoded data removed]",
            "text/plain": [
              "<Figure size 432x288 with 1 Axes>"
            ]
          },
          "metadata": {
            "tags": [],
            "needs_background": "light"
          }
        }
      ]
    },
    {
      "cell_type": "markdown",
      "metadata": {
        "id": "u0C5HK9ph8Vs"
      },
      "source": [
        "# References\n",
        "https://scikit-learn.org/stable/modules/generated/sklearn.metrics.roc_curve.html\n",
        "\n",
        "https://scikit-learn.org/stable/modules/generated/sklearn.metrics.accuracy_score.html\n",
        "\n",
        "https://scikit-learn.org/stable/modules/generated/sklearn.metrics.recall_score.html\n",
        "\n",
        "https://scikit-learn.org/stable/modules/generated/sklearn.metrics.roc_auc_score.html\n",
        "\n",
        "https://scikit-learn.org/stable/modules/generated/sklearn.ensemble.GradientBoostingClassifier.html\n",
        "\n",
        "https://scikit-learn.org/stable/modules/generated/sklearn.linear_model.LogisticRegression.html\n",
        "\n",
        "https://scikit-learn.org/stable/modules/generated/sklearn.naive_bayes.GaussianNB.html\n",
        "\n",
        "https://scikit-learn.org/stable/modules/generated/sklearn.ensemble.RandomForestClassifier.html\n",
        "\n",
        "https://scikit-learn.org/stable/modules/generated/sklearn.tree.DecisionTreeClassifier.html\n",
        "\n",
        "https://scikit-learn.org/stable/modules/generated/sklearn.preprocessing.StandardScaler.html\n"
      ]
    }
  ]
}